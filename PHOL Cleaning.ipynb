{
 "cells": [
  {
   "cell_type": "markdown",
   "metadata": {},
   "source": [
    "# Data Cleasing Task\n",
    "\n",
    "Jerry Wang"
   ]
  },
  {
   "cell_type": "markdown",
   "metadata": {},
   "source": [
    "## 1. Importing and Inspecting"
   ]
  },
  {
   "cell_type": "code",
   "execution_count": 256,
   "metadata": {},
   "outputs": [],
   "source": [
    "# Import packages\n",
    "import pandas as pd"
   ]
  },
  {
   "cell_type": "code",
   "execution_count": 257,
   "metadata": {},
   "outputs": [
    {
     "data": {
      "text/html": [
       "<div>\n",
       "<style scoped>\n",
       "    .dataframe tbody tr th:only-of-type {\n",
       "        vertical-align: middle;\n",
       "    }\n",
       "\n",
       "    .dataframe tbody tr th {\n",
       "        vertical-align: top;\n",
       "    }\n",
       "\n",
       "    .dataframe thead th {\n",
       "        text-align: right;\n",
       "    }\n",
       "</style>\n",
       "<table border=\"1\" class=\"dataframe\">\n",
       "  <thead>\n",
       "    <tr style=\"text-align: right;\">\n",
       "      <th></th>\n",
       "      <th>region</th>\n",
       "      <th>date</th>\n",
       "      <th>name</th>\n",
       "      <th>comment</th>\n",
       "    </tr>\n",
       "  </thead>\n",
       "  <tbody>\n",
       "    <tr>\n",
       "      <th>0</th>\n",
       "      <td>ACT</td>\n",
       "      <td>2014-01-01</td>\n",
       "      <td>New Years Day</td>\n",
       "      <td>None</td>\n",
       "    </tr>\n",
       "    <tr>\n",
       "      <th>1</th>\n",
       "      <td>ACT</td>\n",
       "      <td>2014-01-27</td>\n",
       "      <td>Australia Day Sub</td>\n",
       "      <td>None</td>\n",
       "    </tr>\n",
       "    <tr>\n",
       "      <th>2</th>\n",
       "      <td>ACT</td>\n",
       "      <td>2014-03-10</td>\n",
       "      <td>Canberra Day -RD</td>\n",
       "      <td>None</td>\n",
       "    </tr>\n",
       "    <tr>\n",
       "      <th>3</th>\n",
       "      <td>ACT</td>\n",
       "      <td>2014-04-18</td>\n",
       "      <td>Good Friday</td>\n",
       "      <td>None</td>\n",
       "    </tr>\n",
       "    <tr>\n",
       "      <th>4</th>\n",
       "      <td>ACT</td>\n",
       "      <td>2014-04-19</td>\n",
       "      <td>Easter Saturday</td>\n",
       "      <td>None</td>\n",
       "    </tr>\n",
       "  </tbody>\n",
       "</table>\n",
       "</div>"
      ],
      "text/plain": [
       "  region       date               name comment\n",
       "0    ACT 2014-01-01      New Years Day    None\n",
       "1    ACT 2014-01-27  Australia Day Sub    None\n",
       "2    ACT 2014-03-10   Canberra Day -RD    None\n",
       "3    ACT 2014-04-18        Good Friday    None\n",
       "4    ACT 2014-04-19    Easter Saturday    None"
      ]
     },
     "execution_count": 257,
     "metadata": {},
     "output_type": "execute_result"
    }
   ],
   "source": [
    "# Read in raw data\n",
    "data_raw = pd.read_excel('Data/Input/messy_phol.xlsx')\n",
    "\n",
    "data_raw.head()"
   ]
  },
  {
   "cell_type": "code",
   "execution_count": 258,
   "metadata": {},
   "outputs": [
    {
     "data": {
      "text/plain": [
       "region             object\n",
       "date       datetime64[ns]\n",
       "name               object\n",
       "comment            object\n",
       "dtype: object"
      ]
     },
     "execution_count": 258,
     "metadata": {},
     "output_type": "execute_result"
    }
   ],
   "source": [
    "data_raw.dtypes"
   ]
  },
  {
   "cell_type": "markdown",
   "metadata": {},
   "source": [
    "We see that `date` field is already in the required datetime type."
   ]
  },
  {
   "cell_type": "markdown",
   "metadata": {},
   "source": [
    "There is no data for QLD."
   ]
  },
  {
   "cell_type": "code",
   "execution_count": 259,
   "metadata": {},
   "outputs": [
    {
     "data": {
      "text/plain": [
       "array(['ACT', 'NSW', 'NT', 'SA', 'TAS', nan, 'VIC', 'WA'], dtype=object)"
      ]
     },
     "execution_count": 259,
     "metadata": {},
     "output_type": "execute_result"
    }
   ],
   "source": [
    "data_raw['region'].unique()"
   ]
  },
  {
   "cell_type": "markdown",
   "metadata": {},
   "source": [
    "Data at index 470 and 662 has missing values."
   ]
  },
  {
   "cell_type": "code",
   "execution_count": 260,
   "metadata": {},
   "outputs": [
    {
     "name": "stdout",
     "output_type": "stream",
     "text": [
      "    region       date                    name comment\n",
      "470    NaN 2019-04-25               ANZAC Day    None\n",
      "662     WA        NaT  Queens Birthday WA -RD    None\n"
     ]
    }
   ],
   "source": [
    "print(data_raw[data_raw.isnull().any(axis=1)])"
   ]
  },
  {
   "cell_type": "markdown",
   "metadata": {},
   "source": [
    "The names of public holidays are very messy."
   ]
  },
  {
   "cell_type": "code",
   "execution_count": 261,
   "metadata": {},
   "outputs": [
    {
     "name": "stdout",
     "output_type": "stream",
     "text": [
      "Christmas Day                                     63\n",
      "Easter Monday                                     62\n",
      "Good Friday                                       58\n",
      "ANZAC Day                                         50\n",
      "New Years Day                                     47\n",
      "                                                  ..\n",
      "Boxing Day / Proclamation Day (additional day)     1\n",
      "Australia Day 26th                                 1\n",
      "good Friday - type c                               1\n",
      "Australia Day SUB                                  1\n",
      "Easter MON                                         1\n",
      "Name: name, Length: 72, dtype: int64\n"
     ]
    }
   ],
   "source": [
    "print(data_raw['name'].value_counts())"
   ]
  },
  {
   "cell_type": "markdown",
   "metadata": {},
   "source": [
    "Look for duplication in the data."
   ]
  },
  {
   "cell_type": "code",
   "execution_count": 262,
   "metadata": {},
   "outputs": [
    {
     "data": {
      "text/html": [
       "<div>\n",
       "<style scoped>\n",
       "    .dataframe tbody tr th:only-of-type {\n",
       "        vertical-align: middle;\n",
       "    }\n",
       "\n",
       "    .dataframe tbody tr th {\n",
       "        vertical-align: top;\n",
       "    }\n",
       "\n",
       "    .dataframe thead th {\n",
       "        text-align: right;\n",
       "    }\n",
       "</style>\n",
       "<table border=\"1\" class=\"dataframe\">\n",
       "  <thead>\n",
       "    <tr style=\"text-align: right;\">\n",
       "      <th></th>\n",
       "      <th>region</th>\n",
       "      <th>date</th>\n",
       "      <th>name</th>\n",
       "      <th>comment</th>\n",
       "    </tr>\n",
       "  </thead>\n",
       "  <tbody>\n",
       "    <tr>\n",
       "      <th>573</th>\n",
       "      <td>VIC</td>\n",
       "      <td>2019-12-25</td>\n",
       "      <td>Christmas Day</td>\n",
       "      <td>None</td>\n",
       "    </tr>\n",
       "    <tr>\n",
       "      <th>774</th>\n",
       "      <td>VIC</td>\n",
       "      <td>2019-12-25</td>\n",
       "      <td>Christmas Day</td>\n",
       "      <td>None</td>\n",
       "    </tr>\n",
       "  </tbody>\n",
       "</table>\n",
       "</div>"
      ],
      "text/plain": [
       "    region       date           name comment\n",
       "573    VIC 2019-12-25  Christmas Day    None\n",
       "774    VIC 2019-12-25  Christmas Day    None"
      ]
     },
     "execution_count": 262,
     "metadata": {},
     "output_type": "execute_result"
    }
   ],
   "source": [
    "data_raw.loc[data_raw.duplicated(keep=False), :]"
   ]
  },
  {
   "cell_type": "markdown",
   "metadata": {},
   "source": [
    "## 2. Data Cleansing"
   ]
  },
  {
   "cell_type": "markdown",
   "metadata": {},
   "source": [
    "### 2.0 Duplicate Data"
   ]
  },
  {
   "cell_type": "markdown",
   "metadata": {},
   "source": [
    "We simply remove the duplicated data row."
   ]
  },
  {
   "cell_type": "code",
   "execution_count": 263,
   "metadata": {},
   "outputs": [],
   "source": [
    "data_raw.drop_duplicates(inplace=True)"
   ]
  },
  {
   "cell_type": "markdown",
   "metadata": {},
   "source": [
    "### 2.1 Missing Data"
   ]
  },
  {
   "cell_type": "markdown",
   "metadata": {},
   "source": [
    "There is data missing at index 470 and 662, and the data is roughly ordered by state and date. Therefore:\n",
    "1. We inspect the data points around index 470 and 662\n",
    "2. We can also inspect data with similar dates / names\n",
    "3. We then fill in based on the context"
   ]
  },
  {
   "cell_type": "markdown",
   "metadata": {},
   "source": [
    "#### 2.1.1 Missing Region"
   ]
  },
  {
   "cell_type": "markdown",
   "metadata": {},
   "source": [
    "Here we print out both the rows around the missing data, and other rows containing the same date."
   ]
  },
  {
   "cell_type": "code",
   "execution_count": 264,
   "metadata": {},
   "outputs": [
    {
     "name": "stdout",
     "output_type": "stream",
     "text": [
      "    region       date                           name comment\n",
      "465    TAS 2019-01-01                  New Years Day    None\n",
      "466    TAS 2019-01-28              Australia Day Sub    None\n",
      "467    TAS 2019-03-11       Labour Day VIC - TAS -RD    None\n",
      "468    TAS 2019-04-19                    Good Friday    None\n",
      "469    TAS 2019-04-22                  Easter Monday    None\n",
      "470    NaN 2019-04-25                      ANZAC Day    None\n",
      "471    TAS 2019-06-10     Queens Birthday exc WA -RD    None\n",
      "472    TAS 2019-12-25                  Christmas Day    None\n",
      "473    TAS 2019-12-26  Boxing Day - Proclamation Day    None\n",
      "474    TAS 2020-01-01                  New Years Day    None\n"
     ]
    }
   ],
   "source": [
    "print(data_raw.iloc[465:475, :])"
   ]
  },
  {
   "cell_type": "code",
   "execution_count": 265,
   "metadata": {},
   "outputs": [
    {
     "name": "stdout",
     "output_type": "stream",
     "text": [
      "    region       date       name comment\n",
      "74     ACT 2019-04-25  ANZAC Day    None\n",
      "175    NSW 2019-04-25  ANZAC Day    None\n",
      "273     NT 2019-04-25  ANZAC Day    None\n",
      "382     SA 2019-04-25  ANZAC Day    None\n",
      "470    NaN 2019-04-25  ANZAC Day    None\n",
      "569    VIC 2019-04-25  ANZAC Day    None\n",
      "649     WA 2019-04-25  ANZAC Day    None\n"
     ]
    }
   ],
   "source": [
    "print(data_raw.loc[data_raw['date'] == '2019-04-25', :])"
   ]
  },
  {
   "cell_type": "markdown",
   "metadata": {},
   "source": [
    "We see that the missing data is most likely for TAS, so we replace it with 'TAS'."
   ]
  },
  {
   "cell_type": "code",
   "execution_count": 266,
   "metadata": {},
   "outputs": [],
   "source": [
    "data_raw.at[470, 'region'] = 'TAS'"
   ]
  },
  {
   "cell_type": "markdown",
   "metadata": {},
   "source": [
    "Checking that the missing value has been replaced."
   ]
  },
  {
   "cell_type": "code",
   "execution_count": 267,
   "metadata": {},
   "outputs": [
    {
     "name": "stdout",
     "output_type": "stream",
     "text": [
      "region                     TAS\n",
      "date       2019-04-25 00:00:00\n",
      "name                 ANZAC Day\n",
      "comment                   None\n",
      "Name: 470, dtype: object\n"
     ]
    }
   ],
   "source": [
    "print(data_raw.loc[470])"
   ]
  },
  {
   "cell_type": "markdown",
   "metadata": {},
   "source": [
    "#### 2.1.2 Missing Date"
   ]
  },
  {
   "cell_type": "markdown",
   "metadata": {},
   "source": [
    "Here we print out both the rows around the missing data, and other rows containing the same holiday."
   ]
  },
  {
   "cell_type": "code",
   "execution_count": 268,
   "metadata": {},
   "outputs": [
    {
     "name": "stdout",
     "output_type": "stream",
     "text": [
      "    region       date                           name comment\n",
      "660     WA 2020-04-27                  ANZAC Day Add    None\n",
      "661     WA 2020-06-01          Western Australia Day    None\n",
      "662     WA        NaT         Queens Birthday WA -RD    None\n",
      "663     WA 2020-12-25                  Christmas Day    None\n",
      "664     WA 2020-12-26  Boxing Day - Proclamation Day    None\n",
      "    region       date                    name comment\n",
      "597     WA 2014-09-29  Queens Birthday WA -RD    None\n",
      "608     WA 2015-09-28  Queens Birthday WA -RD    None\n",
      "619     WA 2016-09-26  Queens Birthday WA -RD    None\n",
      "631     WA 2017-09-25  Queens Birthday WA -RD    None\n",
      "641     WA 2018-09-24  Queens Birthday WA -RD    None\n",
      "651     WA 2019-09-30  Queens Birthday WA -RD    None\n",
      "662     WA        NaT  Queens Birthday WA -RD    None\n"
     ]
    }
   ],
   "source": [
    "print(data_raw.iloc[660:665, :])\n",
    "\n",
    "print(data_raw[(data_raw['region']=='WA') & data_raw['name'].str.contains('Queens')])"
   ]
  },
  {
   "cell_type": "markdown",
   "metadata": {},
   "source": [
    "We observe that the missing date is most likely 2020's Queen's Birthday for WA. A quick Google search shows the date as 28/09/2020."
   ]
  },
  {
   "cell_type": "code",
   "execution_count": 269,
   "metadata": {},
   "outputs": [],
   "source": [
    "data_raw.at[662, 'date'] = '2020-09-28'"
   ]
  },
  {
   "cell_type": "markdown",
   "metadata": {},
   "source": [
    "Checking that the missing value has been replaced."
   ]
  },
  {
   "cell_type": "code",
   "execution_count": 270,
   "metadata": {},
   "outputs": [
    {
     "name": "stdout",
     "output_type": "stream",
     "text": [
      "region                         WA\n",
      "date          2020-09-28 00:00:00\n",
      "name       Queens Birthday WA -RD\n",
      "comment                      None\n",
      "Name: 662, dtype: object\n"
     ]
    }
   ],
   "source": [
    "print(data_raw.loc[662])"
   ]
  },
  {
   "cell_type": "markdown",
   "metadata": {},
   "source": [
    "### 2.2 Add Weekday and Week Number"
   ]
  },
  {
   "cell_type": "markdown",
   "metadata": {},
   "source": [
    "We use the built in pandas functions"
   ]
  },
  {
   "cell_type": "code",
   "execution_count": 271,
   "metadata": {},
   "outputs": [],
   "source": [
    "data_raw['week_day'] = data_raw['date'].dt.day_name()\n",
    "data_raw['week_number'] = data_raw['date'].dt.isocalendar().week"
   ]
  },
  {
   "cell_type": "markdown",
   "metadata": {},
   "source": [
    "### 2.3 Public Holiday Names Cleanup"
   ]
  },
  {
   "cell_type": "markdown",
   "metadata": {},
   "source": [
    "Inspecting the full list of unique public holiday names, we can see that there is a lot of suffixes that needs to be removed."
   ]
  },
  {
   "cell_type": "code",
   "execution_count": 272,
   "metadata": {},
   "outputs": [
    {
     "name": "stdout",
     "output_type": "stream",
     "text": [
      "['AFL Grand Final - Friday -RD', 'ANZ Day - additional day declared', 'ANZAC Day', 'ANZAC Day Add', 'Adelaide Cup -RD', 'Adelaide Cup Day', 'Anzac Day', 'Anzac Day (additional day)', 'Australia Day', 'Australia Day 26th', 'Australia Day ADD SA', 'Australia Day SUB', 'Australia Day Sub', 'Bank Holiday', 'Boxing Day', 'Boxing Day (additional day)', 'Boxing Day - Add', 'Boxing Day - Proclamation Day', 'Boxing Day - Proclamation Day Sub', 'Boxing Day / Proclamation Day', 'Boxing Day / Proclamation Day (additional day)', 'Boxing Day Add', 'Boxing Day Sub', 'Canberra Day', 'Canberra Day -RD', 'Christmas (additional day)', 'Christmas Day', 'Christmas Day Add', 'Christmas Eve', 'Christmas Eve -RD', 'Christmas Eve 7pm - midnight', 'Easter MON', 'Easter Monday', 'Easter Saturday', 'Easter Saturday - the Saturday following Good Friday', 'Easter Sunday', 'Easter Tuesday', 'Eight Hours Day', 'Family and Community Day', 'Friday before AFL Grand Final', 'Good Friday', 'Good Friday - type a', 'Good Friday - type b', 'Labour Day', 'Labour Day NSW-ACT-SA -RD', 'Labour Day VIC - TAS -RD', 'Labour Day WA -RD', 'May Day', 'May Day -RD', 'Melbourne Cup', 'Melbourne Cup Day -RD', 'NT Picnic Day -RD', \"New Year's Day\", \"New Year's Day (additional day)\", \"New Year's Eve\", \"New Year's Eve 7pm - midnight\", 'New Years Day', 'New Years Day Add', 'New Years Day Sub', 'New Years Day Sub Add', 'New Years Eve -RD', 'Picnic Day', \"Queen's Birthday\", \"Queen's Birthday / Volunteer's Day\", 'Queens Birthday QLD -RD', 'Queens Birthday WA -RD', 'Queens Birthday exc WA -RD', 'Reconciliation Day', 'Reconciliation Day -RD', 'Saturday before Easter Sunday', 'Western Australia Day', 'good Friday - type c']\n"
     ]
    }
   ],
   "source": [
    "print(sorted(data_raw['name'].unique()))"
   ]
  },
  {
   "cell_type": "markdown",
   "metadata": {},
   "source": [
    "We attempt to clean up public holiday names by:\n",
    "1. Removing all trailing '-RD'\n",
    "2. Replace all 'Add' with '(additional day)'\n",
    "3. Remove other text after the word 'day' if there's no '(additional day)'\n",
    "4. Replace 'Anzac' with 'ANZAC'\n",
    "5. Remove apostrophy"
   ]
  },
  {
   "cell_type": "markdown",
   "metadata": {},
   "source": [
    "Function for step 3"
   ]
  },
  {
   "cell_type": "code",
   "execution_count": 273,
   "metadata": {},
   "outputs": [],
   "source": [
    "def suffix_strip(phol_string):\n",
    "    \"\"\"Removes any string after the word 'day' unless it's part of 'additional day'\n",
    "\n",
    "    Args:\n",
    "    phol_string: (string) public holiday name \n",
    "    \"\"\"\n",
    "    if 'add' in phol_string.lower():\n",
    "        return phol_string\n",
    "    elif 'day' in phol_string.lower():\n",
    "        return phol_string[:phol_string.lower().index('day') + 3]\n",
    "    else:\n",
    "        return phol_string"
   ]
  },
  {
   "cell_type": "markdown",
   "metadata": {},
   "source": [
    "Function for other 4 steps"
   ]
  },
  {
   "cell_type": "code",
   "execution_count": 274,
   "metadata": {},
   "outputs": [],
   "source": [
    "def substring_replace(phol_string, replace_dict):\n",
    "    \"\"\"Removes substring according to dictionary\n",
    "\n",
    "    Args:\n",
    "    phol_string: (string) public holiday name\n",
    "    replace_dict: (dictionary) values to replace\n",
    "    \"\"\"\n",
    "    for key, value in replace_dict.items():\n",
    "        phol_string = phol_string.replace(key, value)\n",
    "    return phol_string"
   ]
  },
  {
   "cell_type": "code",
   "execution_count": 275,
   "metadata": {},
   "outputs": [
    {
     "name": "stdout",
     "output_type": "stream",
     "text": [
      "['AFL Grand Final - Friday', 'ANZ Day - additional day declared', 'ANZAC Day', 'ANZAC Day (additional day)', 'Adelaide Cup', 'Adelaide Cup Day', 'Australia Day', 'Australia Day ADD SA', 'Bank Holiday', 'Boxing Day', 'Boxing Day (additional day)', 'Boxing Day - (additional day)', 'Boxing Day / Proclamation Day (additional day)', 'Canberra Day', 'Christmas (additional day)', 'Christmas Day', 'Christmas Day (additional day)', 'Christmas Eve', 'Christmas Eve 7pm - midnight', 'Easter MON', 'Easter Monday', 'Easter Saturday', 'Easter Sunday', 'Easter Tuesday', 'Eight Hours Day', 'Family and Community Day', 'Friday', 'Good Friday', 'Labour Day', 'May Day', 'Melbourne Cup', 'Melbourne Cup Day', 'NT Picnic Day', 'New Years Day', 'New Years Day (additional day)', 'New Years Day Sub (additional day)', 'New Years Eve', 'New Years Eve 7pm - midnight', 'Picnic Day', 'Queens Birthday', 'Reconciliation Day', 'Saturday', 'Western Australia Day', 'good Friday']\n"
     ]
    }
   ],
   "source": [
    "phol_cleanup = {' -RD': '',\n",
    "                'Add': '(additional day)',\n",
    "                'Anzac': 'ANZAC',\n",
    "                \"'\": ''\n",
    "                }\n",
    "\n",
    "data_raw['name'] = data_raw['name'].apply(lambda row: substring_replace(row, phol_cleanup))\n",
    "\n",
    "data_raw['name'] = data_raw['name'].apply(lambda row: suffix_strip(row))\n",
    "\n",
    "print(sorted(data_raw['name'].unique()))"
   ]
  },
  {
   "cell_type": "markdown",
   "metadata": {},
   "source": [
    "There is still multiple messy or inconsistent holiday names, so we pick them out to investigate separately."
   ]
  },
  {
   "cell_type": "code",
   "execution_count": 276,
   "metadata": {},
   "outputs": [
    {
     "name": "stdout",
     "output_type": "stream",
     "text": [
      "ANZ Day - additional day declared --------------------------------------------------\n",
      "   region       date                               name comment week_day  \\\n",
      "88    ACT 2020-04-27  ANZ Day - additional day declared    None   Monday   \n",
      "\n",
      "    week_number  \n",
      "88           18   \n",
      "\n",
      "Adelaide Cup --------------------------------------------------\n",
      "    region       date              name comment week_day  week_number\n",
      "311     SA 2014-03-10      Adelaide Cup    None   Monday           11\n",
      "324     SA 2015-03-09      Adelaide Cup    None   Monday           11\n",
      "337     SA 2016-03-14      Adelaide Cup    None   Monday           11\n",
      "352     SA 2017-03-13      Adelaide Cup    None   Monday           11\n",
      "365     SA 2018-03-12      Adelaide Cup    None   Monday           11\n",
      "378     SA 2019-03-11      Adelaide Cup    None   Monday           11\n",
      "392     SA 2020-03-09      Adelaide Cup    None   Monday           11\n",
      "405     SA 2021-03-08  Adelaide Cup Day    None   Monday           10\n",
      "724     SA 2022-03-14  Adelaide Cup Day    None   Monday           11 \n",
      "\n",
      "Australia Day ADD SA --------------------------------------------------\n",
      "    region       date                  name comment week_day  week_number\n",
      "310     SA 2014-01-27  Australia Day ADD SA    None   Monday            5\n",
      "391     SA 2020-01-27  Australia Day ADD SA    None   Monday            5 \n",
      "\n",
      "Boxing Day - (additional day) --------------------------------------------------\n",
      "    region       date                           name comment week_day  \\\n",
      "94     ACT 2020-12-28  Boxing Day - (additional day)    None   Monday   \n",
      "191    NSW 2020-12-28  Boxing Day - (additional day)    None   Monday   \n",
      "622     WA 2016-12-27  Boxing Day - (additional day)    None  Tuesday   \n",
      "665     WA 2020-12-28  Boxing Day - (additional day)    None   Monday   \n",
      "\n",
      "     week_number  \n",
      "94            53  \n",
      "191           53  \n",
      "622           52  \n",
      "665           53   \n",
      "\n",
      "Boxing Day / Proclamation Day (additional day) --------------------------------------------------\n",
      "    region       date                                            name comment  \\\n",
      "417     SA 2021-12-28  Boxing Day / Proclamation Day (additional day)    None   \n",
      "\n",
      "    week_day  week_number  \n",
      "417  Tuesday           52   \n",
      "\n",
      "Christmas (additional day) --------------------------------------------------\n",
      "    region       date                        name comment week_day  \\\n",
      "109    ACT 2021-12-27  Christmas (additional day)    None   Monday   \n",
      "203    NSW 2021-12-27  Christmas (additional day)    None   Monday   \n",
      "306     NT 2021-12-27  Christmas (additional day)    None   Monday   \n",
      "416     SA 2021-12-27  Christmas (additional day)    None   Monday   \n",
      "493    TAS 2021-12-27  Christmas (additional day)    None   Monday   \n",
      "588    VIC 2021-12-27  Christmas (additional day)    None   Monday   \n",
      "677     WA 2021-12-27  Christmas (additional day)    None   Monday   \n",
      "693    ACT 2022-12-27  Christmas (additional day)    None  Tuesday   \n",
      "707    NSW 2022-12-27  Christmas (additional day)    None  Tuesday   \n",
      "720     NT 2022-12-27  Christmas (additional day)    None  Tuesday   \n",
      "734     SA 2022-12-27  Christmas (additional day)    None  Tuesday   \n",
      "746    TAS 2022-12-27  Christmas (additional day)    None  Tuesday   \n",
      "760    VIC 2022-12-27  Christmas (additional day)    None  Tuesday   \n",
      "772     WA 2022-12-27  Christmas (additional day)    None  Tuesday   \n",
      "\n",
      "     week_number  \n",
      "109           52  \n",
      "203           52  \n",
      "306           52  \n",
      "416           52  \n",
      "493           52  \n",
      "588           52  \n",
      "677           52  \n",
      "693           52  \n",
      "707           52  \n",
      "720           52  \n",
      "734           52  \n",
      "746           52  \n",
      "760           52  \n",
      "772           52   \n",
      "\n",
      "Christmas Eve 7pm - midnight --------------------------------------------------\n",
      "    region       date                          name comment  week_day  \\\n",
      "717     NT 2022-12-24  Christmas Eve 7pm - midnight    None  Saturday   \n",
      "731     SA 2022-12-24  Christmas Eve 7pm - midnight    None  Saturday   \n",
      "\n",
      "     week_number  \n",
      "717           51  \n",
      "731           51   \n",
      "\n",
      "Easter MON --------------------------------------------------\n",
      "    region       date        name comment week_day  week_number\n",
      "773    NSW 2020-04-13  Easter MON    None   Monday           16 \n",
      "\n",
      "Easter Tuesday --------------------------------------------------\n",
      "    region       date            name comment week_day  week_number\n",
      "488    TAS 2021-04-06  Easter Tuesday    None  Tuesday           14\n",
      "741    TAS 2022-04-19  Easter Tuesday    None  Tuesday           16 \n",
      "\n",
      "Eight Hours Day --------------------------------------------------\n",
      "    region       date             name comment week_day  week_number\n",
      "485    TAS 2021-03-08  Eight Hours Day    None   Monday           10\n",
      "738    TAS 2022-03-14  Eight Hours Day    None   Monday           11 \n",
      "\n",
      "Family and Community Day --------------------------------------------------\n",
      "   region       date                      name comment week_day  week_number\n",
      "8     ACT 2014-09-29  Family and Community Day    None   Monday           40\n",
      "21    ACT 2015-09-28  Family and Community Day    None   Monday           40\n",
      "35    ACT 2016-09-26  Family and Community Day    None   Monday           39\n",
      "50    ACT 2017-09-25  Family and Community Day    None   Monday           39 \n",
      "\n",
      "Friday --------------------------------------------------\n",
      "    region       date    name comment week_day  week_number\n",
      "584    VIC 2021-09-24  Friday    None   Friday           38 \n",
      "\n",
      "Labour Day --------------------------------------------------\n",
      "    region       date        name comment week_day  week_number\n",
      "9      ACT 2014-10-06  Labour Day    None   Monday           41\n",
      "22     ACT 2015-10-05  Labour Day    None   Monday           41\n",
      "36     ACT 2016-10-03  Labour Day    None   Monday           40\n",
      "51     ACT 2017-10-02  Labour Day    None   Monday           40\n",
      "64     ACT 2018-10-01  Labour Day    None   Monday           40\n",
      "77     ACT 2019-10-07  Labour Day    None   Monday           41\n",
      "91     ACT 2020-10-05  Labour Day    None   Monday           41\n",
      "106    ACT 2021-10-04  Labour Day    None   Monday           40\n",
      "119    NSW 2014-10-06  Labour Day    None   Monday           41\n",
      "130    NSW 2015-10-05  Labour Day    None   Monday           41\n",
      "142    NSW 2016-10-03  Labour Day    None   Monday           40\n",
      "155    NSW 2017-10-02  Labour Day    None   Monday           40\n",
      "166    NSW 2018-10-01  Labour Day    None   Monday           40\n",
      "177    NSW 2019-10-07  Labour Day    None   Monday           41\n",
      "188    NSW 2020-10-05  Labour Day    None   Monday           41\n",
      "200    NSW 2021-10-04  Labour Day    None   Monday           40\n",
      "317     SA 2014-10-06  Labour Day    None   Monday           41\n",
      "330     SA 2015-10-05  Labour Day    None   Monday           41\n",
      "343     SA 2016-10-03  Labour Day    None   Monday           40\n",
      "358     SA 2017-10-02  Labour Day    None   Monday           40\n",
      "371     SA 2018-10-01  Labour Day    None   Monday           40\n",
      "384     SA 2019-10-07  Labour Day    None   Monday           41\n",
      "398     SA 2020-10-05  Labour Day    None   Monday           41\n",
      "412     SA 2021-10-04  Labour Day    None   Monday           40\n",
      "421    TAS 2014-03-10  Labour Day    None   Monday           11\n",
      "430    TAS 2015-03-09  Labour Day    None   Monday           11\n",
      "439    TAS 2016-03-14  Labour Day    None   Monday           11\n",
      "449    TAS 2017-03-13  Labour Day    None   Monday           11\n",
      "458    TAS 2018-03-12  Labour Day    None   Monday           11\n",
      "467    TAS 2019-03-11  Labour Day    None   Monday           11\n",
      "476    TAS 2020-03-09  Labour Day    None   Monday           11\n",
      "497    VIC 2014-03-10  Labour Day    None   Monday           11\n",
      "509    VIC 2015-03-09  Labour Day    None   Monday           11\n",
      "523    VIC 2016-03-14  Labour Day    None   Monday           11\n",
      "538    VIC 2017-03-13  Labour Day    None   Monday           11\n",
      "551    VIC 2018-03-12  Labour Day    None   Monday           11\n",
      "564    VIC 2019-03-11  Labour Day    None   Monday           11\n",
      "577    VIC 2021-03-08  Labour Day    None   Monday           10\n",
      "592     WA 2014-03-03  Labour Day    None   Monday           10\n",
      "602     WA 2015-03-02  Labour Day    None   Monday           10\n",
      "614     WA 2016-03-07  Labour Day    None   Monday           10\n",
      "626     WA 2017-03-06  Labour Day    None   Monday           10\n",
      "636     WA 2018-03-05  Labour Day    None   Monday           10\n",
      "646     WA 2019-03-04  Labour Day    None   Monday           10\n",
      "656     WA 2020-03-02  Labour Day    None   Monday           10\n",
      "668     WA 2021-03-01  Labour Day    None   Monday            9\n",
      "690    ACT 2022-10-03  Labour Day    None   Monday           40\n",
      "704    NSW 2022-10-03  Labour Day    None   Monday           40\n",
      "730     SA 2022-10-03  Labour Day    None   Monday           40\n",
      "750    VIC 2022-03-14  Labour Day    None   Monday           11\n",
      "764     WA 2022-03-07  Labour Day    None   Monday           10 \n",
      "\n",
      "May Day --------------------------------------------------\n",
      "    region       date     name comment week_day  week_number\n",
      "211     NT 2014-05-05  May Day    None   Monday           19\n",
      "222     NT 2015-05-04  May Day    None   Monday           19\n",
      "233     NT 2016-05-02  May Day    None   Monday           18\n",
      "248     NT 2017-05-01  May Day    None   Monday           18\n",
      "261     NT 2018-05-07  May Day    None   Monday           19\n",
      "274     NT 2019-05-06  May Day    None   Monday           19\n",
      "287     NT 2020-05-04  May Day    None   Monday           19\n",
      "300     NT 2021-05-03  May Day    None   Monday           18\n",
      "714     NT 2022-05-02  May Day    None   Monday           18 \n",
      "\n",
      "Melbourne Cup --------------------------------------------------\n",
      "    region       date               name comment week_day  week_number\n",
      "504    VIC 2014-11-04  Melbourne Cup Day    None  Tuesday           45\n",
      "517    VIC 2015-11-03  Melbourne Cup Day    None  Tuesday           45\n",
      "531    VIC 2016-11-01  Melbourne Cup Day    None  Tuesday           44\n",
      "546    VIC 2017-11-07  Melbourne Cup Day    None  Tuesday           45\n",
      "559    VIC 2018-11-06  Melbourne Cup Day    None  Tuesday           45\n",
      "572    VIC 2019-11-05  Melbourne Cup Day    None  Tuesday           45\n",
      "585    VIC 2021-11-02      Melbourne Cup    None  Tuesday           44\n",
      "757    VIC 2022-11-01      Melbourne Cup    None  Tuesday           44 \n",
      "\n",
      "NT Picnic Day --------------------------------------------------\n",
      "    region       date           name comment week_day  week_number\n",
      "213     NT 2014-08-04  NT Picnic Day    None   Monday           32\n",
      "224     NT 2015-08-03  NT Picnic Day    None   Monday           32\n",
      "235     NT 2016-08-01  NT Picnic Day    None   Monday           31\n",
      "250     NT 2017-08-07  NT Picnic Day    None   Monday           32\n",
      "263     NT 2018-08-06  NT Picnic Day    None   Monday           32\n",
      "276     NT 2019-08-05  NT Picnic Day    None   Monday           32\n",
      "289     NT 2020-08-03  NT Picnic Day    None   Monday           32 \n",
      "\n",
      "New Years Eve 7pm - midnight --------------------------------------------------\n",
      "    region       date                          name comment  week_day  \\\n",
      "721     NT 2022-12-31  New Years Eve 7pm - midnight    None  Saturday   \n",
      "735     SA 2022-12-31  New Years Eve 7pm - midnight    None  Saturday   \n",
      "\n",
      "     week_number  \n",
      "721           52  \n",
      "735           52   \n",
      "\n",
      "Saturday --------------------------------------------------\n",
      "    region       date      name comment  week_day  week_number\n",
      "579    VIC 2021-04-03  Saturday    None  Saturday           13\n",
      "752    VIC 2022-04-16  Saturday    None  Saturday           15 \n",
      "\n",
      "good Friday --------------------------------------------------\n",
      "    region       date         name comment week_day  week_number\n",
      "171    NSW 2019-04-19  good Friday    None   Friday           16 \n",
      "\n"
     ]
    }
   ],
   "source": [
    "investigate_list = ['ANZ Day - additional day declared',\n",
    "                    'Adelaide Cup',\n",
    "                    'Australia Day ADD SA',\n",
    "                    'Boxing Day - (additional day)',\n",
    "                    'Boxing Day / Proclamation Day (additional day)',\n",
    "                    'Christmas (additional day)',\n",
    "                    'Christmas Eve 7pm - midnight',\n",
    "                    'Easter MON',\n",
    "                    'Easter Tuesday',\n",
    "                    'Eight Hours Day',\n",
    "                    'Family and Community Day',\n",
    "                    'Friday',\n",
    "                    'Labour Day',\n",
    "                    'May Day',\n",
    "                    'Melbourne Cup',\n",
    "                    'NT Picnic Day',\n",
    "                    \"New Years Eve 7pm - midnight\",\n",
    "                    'Saturday',\n",
    "                    'good Friday']\n",
    "\n",
    "for phol in investigate_list:\n",
    "    print(phol, '-'*50)\n",
    "    print(data_raw[data_raw['name'].str.startswith(phol)], '\\n')\n"
   ]
  },
  {
   "cell_type": "markdown",
   "metadata": {},
   "source": [
    "We then rename these individual cases to be in line with the general case."
   ]
  },
  {
   "cell_type": "code",
   "execution_count": 277,
   "metadata": {},
   "outputs": [],
   "source": [
    "phol_replacement = {'ANZ Day - additional day declared': 'ANZAC Day (additional day)',\n",
    "                    'Adelaide Cup': 'Adelaide Cup Day',\n",
    "                    'Australia Day ADD SA': 'Australia Day (additional day)',\n",
    "                    'Boxing Day - (additional day)': 'Boxing Day (additional day)',\n",
    "                    'Boxing Day / Proclamation Day (additional day)': 'Boxing Day (additional day)',\n",
    "                    'Christmas (additional day)': 'Christmas Day (additional day)',\n",
    "                    'Christmas Eve 7pm - midnight': 'Christmas Eve',\n",
    "                    'Easter MON': 'Easter Monday',\n",
    "                    'Easter Tuesday': 'Easter Tuesday',\n",
    "                    'Eight Hours Day': 'Eight Hours Day',\n",
    "                    'Family and Community Day': 'Family and Community Day',\n",
    "                    'Friday': 'AFL Grand Final - Friday',\n",
    "                    'Labour Day': 'Labour Day',\n",
    "                    'May Day': 'May Day',\n",
    "                    'Melbourne Cup': 'Melbourne Cup Day',\n",
    "                    'NT Picnic Day': 'Picnic Day',\n",
    "                    \"New Years Eve 7pm - midnight\": 'New Years Eve',\n",
    "                    'Saturday': 'Easter Saturday',\n",
    "                    'good Friday': 'Good Friday'\n",
    "                    }"
   ]
  },
  {
   "cell_type": "markdown",
   "metadata": {},
   "source": [
    "Here we replace based on the dictionary above"
   ]
  },
  {
   "cell_type": "code",
   "execution_count": 278,
   "metadata": {},
   "outputs": [
    {
     "name": "stdout",
     "output_type": "stream",
     "text": [
      "['AFL Grand Final - Friday', 'ANZAC Day', 'ANZAC Day (additional day)', 'Adelaide Cup Day', 'Australia Day', 'Australia Day (additional day)', 'Bank Holiday', 'Boxing Day', 'Boxing Day (additional day)', 'Canberra Day', 'Christmas Day', 'Christmas Day (additional day)', 'Christmas Eve', 'Easter Monday', 'Easter Saturday', 'Easter Sunday', 'Easter Tuesday', 'Eight Hours Day', 'Family and Community Day', 'Good Friday', 'Labour Day', 'May Day', 'Melbourne Cup Day', 'New Years Day', 'New Years Day (additional day)', 'New Years Day Sub (additional day)', 'New Years Eve', 'Picnic Day', 'Queens Birthday', 'Reconciliation Day', 'Western Australia Day']\n"
     ]
    }
   ],
   "source": [
    "data_raw['name'].replace(to_replace=phol_replacement, inplace=True)\n",
    "\n",
    "print(sorted(data_raw['name'].unique()))"
   ]
  },
  {
   "cell_type": "code",
   "execution_count": 279,
   "metadata": {},
   "outputs": [
    {
     "data": {
      "text/html": [
       "<div>\n",
       "<style scoped>\n",
       "    .dataframe tbody tr th:only-of-type {\n",
       "        vertical-align: middle;\n",
       "    }\n",
       "\n",
       "    .dataframe tbody tr th {\n",
       "        vertical-align: top;\n",
       "    }\n",
       "\n",
       "    .dataframe thead th {\n",
       "        text-align: right;\n",
       "    }\n",
       "</style>\n",
       "<table border=\"1\" class=\"dataframe\">\n",
       "  <thead>\n",
       "    <tr style=\"text-align: right;\">\n",
       "      <th></th>\n",
       "      <th>region</th>\n",
       "      <th>date</th>\n",
       "      <th>name</th>\n",
       "      <th>comment</th>\n",
       "      <th>week_day</th>\n",
       "      <th>week_number</th>\n",
       "    </tr>\n",
       "  </thead>\n",
       "  <tbody>\n",
       "    <tr>\n",
       "      <th>0</th>\n",
       "      <td>ACT</td>\n",
       "      <td>2014-01-01</td>\n",
       "      <td>New Years Day</td>\n",
       "      <td>None</td>\n",
       "      <td>Wednesday</td>\n",
       "      <td>1</td>\n",
       "    </tr>\n",
       "    <tr>\n",
       "      <th>1</th>\n",
       "      <td>ACT</td>\n",
       "      <td>2014-01-27</td>\n",
       "      <td>Australia Day</td>\n",
       "      <td>None</td>\n",
       "      <td>Monday</td>\n",
       "      <td>5</td>\n",
       "    </tr>\n",
       "    <tr>\n",
       "      <th>2</th>\n",
       "      <td>ACT</td>\n",
       "      <td>2014-03-10</td>\n",
       "      <td>Canberra Day</td>\n",
       "      <td>None</td>\n",
       "      <td>Monday</td>\n",
       "      <td>11</td>\n",
       "    </tr>\n",
       "    <tr>\n",
       "      <th>3</th>\n",
       "      <td>ACT</td>\n",
       "      <td>2014-04-18</td>\n",
       "      <td>Good Friday</td>\n",
       "      <td>None</td>\n",
       "      <td>Friday</td>\n",
       "      <td>16</td>\n",
       "    </tr>\n",
       "    <tr>\n",
       "      <th>4</th>\n",
       "      <td>ACT</td>\n",
       "      <td>2014-04-19</td>\n",
       "      <td>Easter Saturday</td>\n",
       "      <td>None</td>\n",
       "      <td>Saturday</td>\n",
       "      <td>16</td>\n",
       "    </tr>\n",
       "    <tr>\n",
       "      <th>...</th>\n",
       "      <td>...</td>\n",
       "      <td>...</td>\n",
       "      <td>...</td>\n",
       "      <td>...</td>\n",
       "      <td>...</td>\n",
       "      <td>...</td>\n",
       "    </tr>\n",
       "    <tr>\n",
       "      <th>769</th>\n",
       "      <td>WA</td>\n",
       "      <td>2022-09-26</td>\n",
       "      <td>Queens Birthday</td>\n",
       "      <td>None</td>\n",
       "      <td>Monday</td>\n",
       "      <td>39</td>\n",
       "    </tr>\n",
       "    <tr>\n",
       "      <th>770</th>\n",
       "      <td>WA</td>\n",
       "      <td>2022-12-25</td>\n",
       "      <td>Christmas Day</td>\n",
       "      <td>None</td>\n",
       "      <td>Sunday</td>\n",
       "      <td>51</td>\n",
       "    </tr>\n",
       "    <tr>\n",
       "      <th>771</th>\n",
       "      <td>WA</td>\n",
       "      <td>2022-12-26</td>\n",
       "      <td>Boxing Day</td>\n",
       "      <td>None</td>\n",
       "      <td>Monday</td>\n",
       "      <td>52</td>\n",
       "    </tr>\n",
       "    <tr>\n",
       "      <th>772</th>\n",
       "      <td>WA</td>\n",
       "      <td>2022-12-27</td>\n",
       "      <td>Christmas Day (additional day)</td>\n",
       "      <td>None</td>\n",
       "      <td>Tuesday</td>\n",
       "      <td>52</td>\n",
       "    </tr>\n",
       "    <tr>\n",
       "      <th>773</th>\n",
       "      <td>NSW</td>\n",
       "      <td>2020-04-13</td>\n",
       "      <td>Easter Monday</td>\n",
       "      <td>None</td>\n",
       "      <td>Monday</td>\n",
       "      <td>16</td>\n",
       "    </tr>\n",
       "  </tbody>\n",
       "</table>\n",
       "<p>774 rows × 6 columns</p>\n",
       "</div>"
      ],
      "text/plain": [
       "    region       date                            name comment   week_day  \\\n",
       "0      ACT 2014-01-01                   New Years Day    None  Wednesday   \n",
       "1      ACT 2014-01-27                   Australia Day    None     Monday   \n",
       "2      ACT 2014-03-10                    Canberra Day    None     Monday   \n",
       "3      ACT 2014-04-18                     Good Friday    None     Friday   \n",
       "4      ACT 2014-04-19                 Easter Saturday    None   Saturday   \n",
       "..     ...        ...                             ...     ...        ...   \n",
       "769     WA 2022-09-26                 Queens Birthday    None     Monday   \n",
       "770     WA 2022-12-25                   Christmas Day    None     Sunday   \n",
       "771     WA 2022-12-26                      Boxing Day    None     Monday   \n",
       "772     WA 2022-12-27  Christmas Day (additional day)    None    Tuesday   \n",
       "773    NSW 2020-04-13                   Easter Monday    None     Monday   \n",
       "\n",
       "     week_number  \n",
       "0              1  \n",
       "1              5  \n",
       "2             11  \n",
       "3             16  \n",
       "4             16  \n",
       "..           ...  \n",
       "769           39  \n",
       "770           51  \n",
       "771           52  \n",
       "772           52  \n",
       "773           16  \n",
       "\n",
       "[774 rows x 6 columns]"
      ]
     },
     "execution_count": 279,
     "metadata": {},
     "output_type": "execute_result"
    }
   ],
   "source": [
    "data_raw"
   ]
  },
  {
   "cell_type": "markdown",
   "metadata": {},
   "source": [
    "Rename the columns and save to a copy "
   ]
  },
  {
   "cell_type": "code",
   "execution_count": 280,
   "metadata": {},
   "outputs": [
    {
     "data": {
      "text/html": [
       "<div>\n",
       "<style scoped>\n",
       "    .dataframe tbody tr th:only-of-type {\n",
       "        vertical-align: middle;\n",
       "    }\n",
       "\n",
       "    .dataframe tbody tr th {\n",
       "        vertical-align: top;\n",
       "    }\n",
       "\n",
       "    .dataframe thead th {\n",
       "        text-align: right;\n",
       "    }\n",
       "</style>\n",
       "<table border=\"1\" class=\"dataframe\">\n",
       "  <thead>\n",
       "    <tr style=\"text-align: right;\">\n",
       "      <th></th>\n",
       "      <th>phol_location</th>\n",
       "      <th>public_holiday_date</th>\n",
       "      <th>public_holiday</th>\n",
       "      <th>week_day</th>\n",
       "      <th>week_number</th>\n",
       "    </tr>\n",
       "  </thead>\n",
       "  <tbody>\n",
       "    <tr>\n",
       "      <th>0</th>\n",
       "      <td>ACT</td>\n",
       "      <td>2014-01-01</td>\n",
       "      <td>New Years Day</td>\n",
       "      <td>Wednesday</td>\n",
       "      <td>1</td>\n",
       "    </tr>\n",
       "    <tr>\n",
       "      <th>1</th>\n",
       "      <td>ACT</td>\n",
       "      <td>2014-01-27</td>\n",
       "      <td>Australia Day</td>\n",
       "      <td>Monday</td>\n",
       "      <td>5</td>\n",
       "    </tr>\n",
       "    <tr>\n",
       "      <th>2</th>\n",
       "      <td>ACT</td>\n",
       "      <td>2014-03-10</td>\n",
       "      <td>Canberra Day</td>\n",
       "      <td>Monday</td>\n",
       "      <td>11</td>\n",
       "    </tr>\n",
       "    <tr>\n",
       "      <th>3</th>\n",
       "      <td>ACT</td>\n",
       "      <td>2014-04-18</td>\n",
       "      <td>Good Friday</td>\n",
       "      <td>Friday</td>\n",
       "      <td>16</td>\n",
       "    </tr>\n",
       "    <tr>\n",
       "      <th>4</th>\n",
       "      <td>ACT</td>\n",
       "      <td>2014-04-19</td>\n",
       "      <td>Easter Saturday</td>\n",
       "      <td>Saturday</td>\n",
       "      <td>16</td>\n",
       "    </tr>\n",
       "  </tbody>\n",
       "</table>\n",
       "</div>"
      ],
      "text/plain": [
       "  phol_location public_holiday_date   public_holiday   week_day  week_number\n",
       "0           ACT          2014-01-01    New Years Day  Wednesday            1\n",
       "1           ACT          2014-01-27    Australia Day     Monday            5\n",
       "2           ACT          2014-03-10     Canberra Day     Monday           11\n",
       "3           ACT          2014-04-18      Good Friday     Friday           16\n",
       "4           ACT          2014-04-19  Easter Saturday   Saturday           16"
      ]
     },
     "execution_count": 280,
     "metadata": {},
     "output_type": "execute_result"
    }
   ],
   "source": [
    "data_cleansed = data_raw.copy(deep=True)\n",
    "data_cleansed.drop(columns='comment', inplace=True)\n",
    "\n",
    "data_cleansed.columns = ['phol_location',\n",
    "                         'public_holiday_date',\n",
    "                         'public_holiday',\n",
    "                         'week_day',\n",
    "                         'week_number']\n",
    "\n",
    "data_cleansed.head()"
   ]
  },
  {
   "cell_type": "markdown",
   "metadata": {},
   "source": [
    "Here we take a subset of the data for the in-scope period.  "
   ]
  },
  {
   "cell_type": "code",
   "execution_count": 281,
   "metadata": {},
   "outputs": [
    {
     "data": {
      "text/html": [
       "<div>\n",
       "<style scoped>\n",
       "    .dataframe tbody tr th:only-of-type {\n",
       "        vertical-align: middle;\n",
       "    }\n",
       "\n",
       "    .dataframe tbody tr th {\n",
       "        vertical-align: top;\n",
       "    }\n",
       "\n",
       "    .dataframe thead th {\n",
       "        text-align: right;\n",
       "    }\n",
       "</style>\n",
       "<table border=\"1\" class=\"dataframe\">\n",
       "  <thead>\n",
       "    <tr style=\"text-align: right;\">\n",
       "      <th></th>\n",
       "      <th>phol_location</th>\n",
       "      <th>public_holiday_date</th>\n",
       "      <th>public_holiday</th>\n",
       "      <th>week_day</th>\n",
       "      <th>week_number</th>\n",
       "    </tr>\n",
       "  </thead>\n",
       "  <tbody>\n",
       "    <tr>\n",
       "      <th>67</th>\n",
       "      <td>ACT</td>\n",
       "      <td>2019-01-01</td>\n",
       "      <td>New Years Day</td>\n",
       "      <td>Tuesday</td>\n",
       "      <td>1</td>\n",
       "    </tr>\n",
       "    <tr>\n",
       "      <th>68</th>\n",
       "      <td>ACT</td>\n",
       "      <td>2019-01-28</td>\n",
       "      <td>Australia Day</td>\n",
       "      <td>Monday</td>\n",
       "      <td>5</td>\n",
       "    </tr>\n",
       "    <tr>\n",
       "      <th>69</th>\n",
       "      <td>ACT</td>\n",
       "      <td>2019-03-11</td>\n",
       "      <td>Canberra Day</td>\n",
       "      <td>Monday</td>\n",
       "      <td>11</td>\n",
       "    </tr>\n",
       "    <tr>\n",
       "      <th>70</th>\n",
       "      <td>ACT</td>\n",
       "      <td>2019-04-19</td>\n",
       "      <td>Good Friday</td>\n",
       "      <td>Friday</td>\n",
       "      <td>16</td>\n",
       "    </tr>\n",
       "    <tr>\n",
       "      <th>71</th>\n",
       "      <td>ACT</td>\n",
       "      <td>2019-04-20</td>\n",
       "      <td>Easter Saturday</td>\n",
       "      <td>Saturday</td>\n",
       "      <td>16</td>\n",
       "    </tr>\n",
       "  </tbody>\n",
       "</table>\n",
       "</div>"
      ],
      "text/plain": [
       "   phol_location public_holiday_date   public_holiday  week_day  week_number\n",
       "67           ACT          2019-01-01    New Years Day   Tuesday            1\n",
       "68           ACT          2019-01-28    Australia Day    Monday            5\n",
       "69           ACT          2019-03-11     Canberra Day    Monday           11\n",
       "70           ACT          2019-04-19      Good Friday    Friday           16\n",
       "71           ACT          2019-04-20  Easter Saturday  Saturday           16"
      ]
     },
     "execution_count": 281,
     "metadata": {},
     "output_type": "execute_result"
    }
   ],
   "source": [
    "data_inscope = data_cleansed.loc[(data_cleansed['public_holiday_date'] >= '2019-01-01') & \n",
    "                                 (data_cleansed['public_holiday_date'] <= '2021-12-31'),\n",
    "                                 :\n",
    "                                 ].copy(deep=True)\n",
    "\n",
    "data_inscope.head()"
   ]
  },
  {
   "cell_type": "markdown",
   "metadata": {},
   "source": [
    "### 2.4 Public Holiday Start Time"
   ]
  },
  {
   "cell_type": "markdown",
   "metadata": {},
   "source": [
    "We create the start and end time columns by copying over the `public_holiday_date` column first.\n",
    "\n",
    "We then create a copy of the smaller subset of the in-scope data, for those holidays that have a 7PM start time instead of 12AM start time."
   ]
  },
  {
   "cell_type": "code",
   "execution_count": 282,
   "metadata": {},
   "outputs": [],
   "source": [
    "data_inscope['public_holiday_start'] = data_inscope['public_holiday_date']\n",
    "data_inscope['public_holiday_end'] = data_inscope['public_holiday_date']\n",
    "\n",
    "# Removing the time components so the format when output to CSV is correct\n",
    "data_inscope['public_holiday_date'] = data_inscope['public_holiday_date'].dt.date"
   ]
  },
  {
   "cell_type": "code",
   "execution_count": 283,
   "metadata": {},
   "outputs": [],
   "source": [
    "partial_holidays = data_inscope.loc[(data_inscope['phol_location'].isin(['NT', 'SA'])) & \n",
    "                                    (data_inscope['public_holiday'].isin(['Christmas Eve', 'New Years Eve'])),\n",
    "                                    :\n",
    "                                    ].copy(deep=True)"
   ]
  },
  {
   "cell_type": "markdown",
   "metadata": {},
   "source": [
    "We replace the time with 19:00 or 7PM."
   ]
  },
  {
   "cell_type": "code",
   "execution_count": 284,
   "metadata": {},
   "outputs": [
    {
     "name": "stdout",
     "output_type": "stream",
     "text": [
      "    phol_location public_holiday_date public_holiday  week_day  week_number  \\\n",
      "277            NT          2019-12-24  Christmas Eve   Tuesday           52   \n",
      "280            NT          2019-12-31  New Years Eve   Tuesday            1   \n",
      "290            NT          2020-12-24  Christmas Eve  Thursday           52   \n",
      "293            NT          2020-12-31  New Years Eve  Thursday           53   \n",
      "303            NT          2021-12-24  Christmas Eve    Friday           51   \n",
      "308            NT          2021-12-31  New Years Eve    Friday           52   \n",
      "385            SA          2019-12-24  Christmas Eve   Tuesday           52   \n",
      "388            SA          2019-12-31  New Years Eve   Tuesday            1   \n",
      "399            SA          2020-12-24  Christmas Eve  Thursday           52   \n",
      "402            SA          2020-12-31  New Years Eve  Thursday           53   \n",
      "413            SA          2021-12-24  Christmas Eve    Friday           51   \n",
      "418            SA          2021-12-31  New Years Eve    Friday           52   \n",
      "\n",
      "    public_holiday_start public_holiday_end  \n",
      "277  2019-12-24 19:00:00         2019-12-24  \n",
      "280  2019-12-31 19:00:00         2019-12-31  \n",
      "290  2020-12-24 19:00:00         2020-12-24  \n",
      "293  2020-12-31 19:00:00         2020-12-31  \n",
      "303  2021-12-24 19:00:00         2021-12-24  \n",
      "308  2021-12-31 19:00:00         2021-12-31  \n",
      "385  2019-12-24 19:00:00         2019-12-24  \n",
      "388  2019-12-31 19:00:00         2019-12-31  \n",
      "399  2020-12-24 19:00:00         2020-12-24  \n",
      "402  2020-12-31 19:00:00         2020-12-31  \n",
      "413  2021-12-24 19:00:00         2021-12-24  \n",
      "418  2021-12-31 19:00:00         2021-12-31  \n"
     ]
    }
   ],
   "source": [
    "partial_holidays.loc[:, 'public_holiday_start'] = partial_holidays.loc[:, 'public_holiday_start'].apply(\n",
    "                                                      lambda x: x.replace(hour=19, minute=0)\n",
    "                                                      )\n",
    "\n",
    "print(partial_holidays)"
   ]
  },
  {
   "cell_type": "markdown",
   "metadata": {},
   "source": [
    "We update the original `data_inscope` table, and check that the values have been successfully updated"
   ]
  },
  {
   "cell_type": "code",
   "execution_count": 285,
   "metadata": {},
   "outputs": [
    {
     "data": {
      "text/html": [
       "<div>\n",
       "<style scoped>\n",
       "    .dataframe tbody tr th:only-of-type {\n",
       "        vertical-align: middle;\n",
       "    }\n",
       "\n",
       "    .dataframe tbody tr th {\n",
       "        vertical-align: top;\n",
       "    }\n",
       "\n",
       "    .dataframe thead th {\n",
       "        text-align: right;\n",
       "    }\n",
       "</style>\n",
       "<table border=\"1\" class=\"dataframe\">\n",
       "  <thead>\n",
       "    <tr style=\"text-align: right;\">\n",
       "      <th></th>\n",
       "      <th>phol_location</th>\n",
       "      <th>public_holiday_date</th>\n",
       "      <th>public_holiday</th>\n",
       "      <th>week_day</th>\n",
       "      <th>week_number</th>\n",
       "      <th>public_holiday_start</th>\n",
       "      <th>public_holiday_end</th>\n",
       "    </tr>\n",
       "  </thead>\n",
       "  <tbody>\n",
       "    <tr>\n",
       "      <th>277</th>\n",
       "      <td>NT</td>\n",
       "      <td>2019-12-24</td>\n",
       "      <td>Christmas Eve</td>\n",
       "      <td>Tuesday</td>\n",
       "      <td>52</td>\n",
       "      <td>2019-12-24 19:00:00</td>\n",
       "      <td>2019-12-24</td>\n",
       "    </tr>\n",
       "    <tr>\n",
       "      <th>280</th>\n",
       "      <td>NT</td>\n",
       "      <td>2019-12-31</td>\n",
       "      <td>New Years Eve</td>\n",
       "      <td>Tuesday</td>\n",
       "      <td>1</td>\n",
       "      <td>2019-12-31 19:00:00</td>\n",
       "      <td>2019-12-31</td>\n",
       "    </tr>\n",
       "    <tr>\n",
       "      <th>290</th>\n",
       "      <td>NT</td>\n",
       "      <td>2020-12-24</td>\n",
       "      <td>Christmas Eve</td>\n",
       "      <td>Thursday</td>\n",
       "      <td>52</td>\n",
       "      <td>2020-12-24 19:00:00</td>\n",
       "      <td>2020-12-24</td>\n",
       "    </tr>\n",
       "    <tr>\n",
       "      <th>293</th>\n",
       "      <td>NT</td>\n",
       "      <td>2020-12-31</td>\n",
       "      <td>New Years Eve</td>\n",
       "      <td>Thursday</td>\n",
       "      <td>53</td>\n",
       "      <td>2020-12-31 19:00:00</td>\n",
       "      <td>2020-12-31</td>\n",
       "    </tr>\n",
       "    <tr>\n",
       "      <th>303</th>\n",
       "      <td>NT</td>\n",
       "      <td>2021-12-24</td>\n",
       "      <td>Christmas Eve</td>\n",
       "      <td>Friday</td>\n",
       "      <td>51</td>\n",
       "      <td>2021-12-24 19:00:00</td>\n",
       "      <td>2021-12-24</td>\n",
       "    </tr>\n",
       "    <tr>\n",
       "      <th>308</th>\n",
       "      <td>NT</td>\n",
       "      <td>2021-12-31</td>\n",
       "      <td>New Years Eve</td>\n",
       "      <td>Friday</td>\n",
       "      <td>52</td>\n",
       "      <td>2021-12-31 19:00:00</td>\n",
       "      <td>2021-12-31</td>\n",
       "    </tr>\n",
       "    <tr>\n",
       "      <th>385</th>\n",
       "      <td>SA</td>\n",
       "      <td>2019-12-24</td>\n",
       "      <td>Christmas Eve</td>\n",
       "      <td>Tuesday</td>\n",
       "      <td>52</td>\n",
       "      <td>2019-12-24 19:00:00</td>\n",
       "      <td>2019-12-24</td>\n",
       "    </tr>\n",
       "    <tr>\n",
       "      <th>388</th>\n",
       "      <td>SA</td>\n",
       "      <td>2019-12-31</td>\n",
       "      <td>New Years Eve</td>\n",
       "      <td>Tuesday</td>\n",
       "      <td>1</td>\n",
       "      <td>2019-12-31 19:00:00</td>\n",
       "      <td>2019-12-31</td>\n",
       "    </tr>\n",
       "    <tr>\n",
       "      <th>399</th>\n",
       "      <td>SA</td>\n",
       "      <td>2020-12-24</td>\n",
       "      <td>Christmas Eve</td>\n",
       "      <td>Thursday</td>\n",
       "      <td>52</td>\n",
       "      <td>2020-12-24 19:00:00</td>\n",
       "      <td>2020-12-24</td>\n",
       "    </tr>\n",
       "    <tr>\n",
       "      <th>402</th>\n",
       "      <td>SA</td>\n",
       "      <td>2020-12-31</td>\n",
       "      <td>New Years Eve</td>\n",
       "      <td>Thursday</td>\n",
       "      <td>53</td>\n",
       "      <td>2020-12-31 19:00:00</td>\n",
       "      <td>2020-12-31</td>\n",
       "    </tr>\n",
       "    <tr>\n",
       "      <th>413</th>\n",
       "      <td>SA</td>\n",
       "      <td>2021-12-24</td>\n",
       "      <td>Christmas Eve</td>\n",
       "      <td>Friday</td>\n",
       "      <td>51</td>\n",
       "      <td>2021-12-24 19:00:00</td>\n",
       "      <td>2021-12-24</td>\n",
       "    </tr>\n",
       "    <tr>\n",
       "      <th>418</th>\n",
       "      <td>SA</td>\n",
       "      <td>2021-12-31</td>\n",
       "      <td>New Years Eve</td>\n",
       "      <td>Friday</td>\n",
       "      <td>52</td>\n",
       "      <td>2021-12-31 19:00:00</td>\n",
       "      <td>2021-12-31</td>\n",
       "    </tr>\n",
       "  </tbody>\n",
       "</table>\n",
       "</div>"
      ],
      "text/plain": [
       "    phol_location public_holiday_date public_holiday  week_day week_number  \\\n",
       "277            NT          2019-12-24  Christmas Eve   Tuesday          52   \n",
       "280            NT          2019-12-31  New Years Eve   Tuesday           1   \n",
       "290            NT          2020-12-24  Christmas Eve  Thursday          52   \n",
       "293            NT          2020-12-31  New Years Eve  Thursday          53   \n",
       "303            NT          2021-12-24  Christmas Eve    Friday          51   \n",
       "308            NT          2021-12-31  New Years Eve    Friday          52   \n",
       "385            SA          2019-12-24  Christmas Eve   Tuesday          52   \n",
       "388            SA          2019-12-31  New Years Eve   Tuesday           1   \n",
       "399            SA          2020-12-24  Christmas Eve  Thursday          52   \n",
       "402            SA          2020-12-31  New Years Eve  Thursday          53   \n",
       "413            SA          2021-12-24  Christmas Eve    Friday          51   \n",
       "418            SA          2021-12-31  New Years Eve    Friday          52   \n",
       "\n",
       "    public_holiday_start public_holiday_end  \n",
       "277  2019-12-24 19:00:00         2019-12-24  \n",
       "280  2019-12-31 19:00:00         2019-12-31  \n",
       "290  2020-12-24 19:00:00         2020-12-24  \n",
       "293  2020-12-31 19:00:00         2020-12-31  \n",
       "303  2021-12-24 19:00:00         2021-12-24  \n",
       "308  2021-12-31 19:00:00         2021-12-31  \n",
       "385  2019-12-24 19:00:00         2019-12-24  \n",
       "388  2019-12-31 19:00:00         2019-12-31  \n",
       "399  2020-12-24 19:00:00         2020-12-24  \n",
       "402  2020-12-31 19:00:00         2020-12-31  \n",
       "413  2021-12-24 19:00:00         2021-12-24  \n",
       "418  2021-12-31 19:00:00         2021-12-31  "
      ]
     },
     "execution_count": 285,
     "metadata": {},
     "output_type": "execute_result"
    }
   ],
   "source": [
    "data_inscope.update(partial_holidays)\n",
    "\n",
    "data_inscope.loc[(data_inscope['phol_location'].isin(['NT', 'SA'])) & \n",
    "                 (data_inscope['public_holiday'].isin(['Christmas Eve', 'New Years Eve'])),\n",
    "                 :\n",
    "                 ]"
   ]
  },
  {
   "cell_type": "markdown",
   "metadata": {},
   "source": [
    "### 2.5 Public Holiday End Time"
   ]
  },
  {
   "cell_type": "markdown",
   "metadata": {},
   "source": [
    "Here we simply change all public holiday end time to 23:59:59."
   ]
  },
  {
   "cell_type": "code",
   "execution_count": 286,
   "metadata": {},
   "outputs": [],
   "source": [
    "data_inscope.loc[:, 'public_holiday_end'] = data_inscope.loc[:, 'public_holiday_end'].apply(\n",
    "                                                lambda x: x.replace(hour=23, minute=59, second=59)\n",
    "                                                )"
   ]
  },
  {
   "cell_type": "code",
   "execution_count": 287,
   "metadata": {},
   "outputs": [
    {
     "name": "stdout",
     "output_type": "stream",
     "text": [
      "   phol_location public_holiday_date   public_holiday  week_day week_number  \\\n",
      "67           ACT          2019-01-01    New Years Day   Tuesday           1   \n",
      "68           ACT          2019-01-28    Australia Day    Monday           5   \n",
      "69           ACT          2019-03-11     Canberra Day    Monday          11   \n",
      "70           ACT          2019-04-19      Good Friday    Friday          16   \n",
      "71           ACT          2019-04-20  Easter Saturday  Saturday          16   \n",
      "\n",
      "   public_holiday_start  public_holiday_end  \n",
      "67           2019-01-01 2019-01-01 23:59:59  \n",
      "68           2019-01-28 2019-01-28 23:59:59  \n",
      "69           2019-03-11 2019-03-11 23:59:59  \n",
      "70           2019-04-19 2019-04-19 23:59:59  \n",
      "71           2019-04-20 2019-04-20 23:59:59  \n"
     ]
    }
   ],
   "source": [
    "print(data_inscope.head())"
   ]
  },
  {
   "cell_type": "markdown",
   "metadata": {},
   "source": [
    "### 2.6 Final Check"
   ]
  },
  {
   "cell_type": "markdown",
   "metadata": {},
   "source": [
    "Final check for missing data"
   ]
  },
  {
   "cell_type": "code",
   "execution_count": 288,
   "metadata": {},
   "outputs": [
    {
     "data": {
      "text/html": [
       "<div>\n",
       "<style scoped>\n",
       "    .dataframe tbody tr th:only-of-type {\n",
       "        vertical-align: middle;\n",
       "    }\n",
       "\n",
       "    .dataframe tbody tr th {\n",
       "        vertical-align: top;\n",
       "    }\n",
       "\n",
       "    .dataframe thead th {\n",
       "        text-align: right;\n",
       "    }\n",
       "</style>\n",
       "<table border=\"1\" class=\"dataframe\">\n",
       "  <thead>\n",
       "    <tr style=\"text-align: right;\">\n",
       "      <th></th>\n",
       "      <th>phol_location</th>\n",
       "      <th>public_holiday_date</th>\n",
       "      <th>public_holiday</th>\n",
       "      <th>week_day</th>\n",
       "      <th>week_number</th>\n",
       "      <th>public_holiday_start</th>\n",
       "      <th>public_holiday_end</th>\n",
       "    </tr>\n",
       "  </thead>\n",
       "  <tbody>\n",
       "  </tbody>\n",
       "</table>\n",
       "</div>"
      ],
      "text/plain": [
       "Empty DataFrame\n",
       "Columns: [phol_location, public_holiday_date, public_holiday, week_day, week_number, public_holiday_start, public_holiday_end]\n",
       "Index: []"
      ]
     },
     "execution_count": 288,
     "metadata": {},
     "output_type": "execute_result"
    }
   ],
   "source": [
    "data_inscope[data_inscope.isnull().any(axis=1)]"
   ]
  },
  {
   "cell_type": "markdown",
   "metadata": {},
   "source": [
    "Final check for duplicates"
   ]
  },
  {
   "cell_type": "code",
   "execution_count": 289,
   "metadata": {},
   "outputs": [
    {
     "data": {
      "text/html": [
       "<div>\n",
       "<style scoped>\n",
       "    .dataframe tbody tr th:only-of-type {\n",
       "        vertical-align: middle;\n",
       "    }\n",
       "\n",
       "    .dataframe tbody tr th {\n",
       "        vertical-align: top;\n",
       "    }\n",
       "\n",
       "    .dataframe thead th {\n",
       "        text-align: right;\n",
       "    }\n",
       "</style>\n",
       "<table border=\"1\" class=\"dataframe\">\n",
       "  <thead>\n",
       "    <tr style=\"text-align: right;\">\n",
       "      <th></th>\n",
       "      <th>phol_location</th>\n",
       "      <th>public_holiday_date</th>\n",
       "      <th>public_holiday</th>\n",
       "      <th>week_day</th>\n",
       "      <th>week_number</th>\n",
       "      <th>public_holiday_start</th>\n",
       "      <th>public_holiday_end</th>\n",
       "    </tr>\n",
       "  </thead>\n",
       "  <tbody>\n",
       "    <tr>\n",
       "      <th>185</th>\n",
       "      <td>NSW</td>\n",
       "      <td>2020-04-13</td>\n",
       "      <td>Easter Monday</td>\n",
       "      <td>Monday</td>\n",
       "      <td>16</td>\n",
       "      <td>2020-04-13</td>\n",
       "      <td>2020-04-13 23:59:59</td>\n",
       "    </tr>\n",
       "    <tr>\n",
       "      <th>773</th>\n",
       "      <td>NSW</td>\n",
       "      <td>2020-04-13</td>\n",
       "      <td>Easter Monday</td>\n",
       "      <td>Monday</td>\n",
       "      <td>16</td>\n",
       "      <td>2020-04-13</td>\n",
       "      <td>2020-04-13 23:59:59</td>\n",
       "    </tr>\n",
       "  </tbody>\n",
       "</table>\n",
       "</div>"
      ],
      "text/plain": [
       "    phol_location public_holiday_date public_holiday week_day week_number  \\\n",
       "185           NSW          2020-04-13  Easter Monday   Monday          16   \n",
       "773           NSW          2020-04-13  Easter Monday   Monday          16   \n",
       "\n",
       "    public_holiday_start  public_holiday_end  \n",
       "185           2020-04-13 2020-04-13 23:59:59  \n",
       "773           2020-04-13 2020-04-13 23:59:59  "
      ]
     },
     "execution_count": 289,
     "metadata": {},
     "output_type": "execute_result"
    }
   ],
   "source": [
    "data_inscope.loc[data_inscope.duplicated(keep=False), :]"
   ]
  },
  {
   "cell_type": "markdown",
   "metadata": {},
   "source": [
    "The duplication was from 'Easter MON' and 'Easter Monday' name changes, we therefore remove them."
   ]
  },
  {
   "cell_type": "code",
   "execution_count": 290,
   "metadata": {},
   "outputs": [],
   "source": [
    "data_inscope.drop_duplicates(inplace=True)"
   ]
  },
  {
   "cell_type": "markdown",
   "metadata": {},
   "source": [
    "### 2.7 Saving to CSV"
   ]
  },
  {
   "cell_type": "code",
   "execution_count": 291,
   "metadata": {},
   "outputs": [],
   "source": [
    "data_inscope.to_csv('Data/Output/cleaned_phol.csv', index=False)"
   ]
  }
 ],
 "metadata": {
  "interpreter": {
   "hash": "573b75eb071366041b83a01f055daac94ade1c01d4174ad6a6be94e33032cbc2"
  },
  "kernelspec": {
   "display_name": "Python 3 (ipykernel)",
   "language": "python",
   "name": "python3"
  },
  "language_info": {
   "codemirror_mode": {
    "name": "ipython",
    "version": 3
   },
   "file_extension": ".py",
   "mimetype": "text/x-python",
   "name": "python",
   "nbconvert_exporter": "python",
   "pygments_lexer": "ipython3",
   "version": "3.9.7"
  }
 },
 "nbformat": 4,
 "nbformat_minor": 4
}
