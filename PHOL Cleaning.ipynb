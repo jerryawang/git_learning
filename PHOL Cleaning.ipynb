{
 "cells": [
  {
   "cell_type": "markdown",
   "metadata": {},
   "source": [
    "# Data Cleasing Task"
   ]
  },
  {
   "cell_type": "markdown",
   "metadata": {},
   "source": [
    "## 1. Importing and Inspecting"
   ]
  },
  {
   "cell_type": "code",
   "execution_count": 1032,
   "metadata": {},
   "outputs": [],
   "source": [
    "# Import packages\n",
    "import pandas as pd"
   ]
  },
  {
   "cell_type": "code",
   "execution_count": 1033,
   "metadata": {},
   "outputs": [
    {
     "data": {
      "text/html": [
       "<div>\n",
       "<style scoped>\n",
       "    .dataframe tbody tr th:only-of-type {\n",
       "        vertical-align: middle;\n",
       "    }\n",
       "\n",
       "    .dataframe tbody tr th {\n",
       "        vertical-align: top;\n",
       "    }\n",
       "\n",
       "    .dataframe thead th {\n",
       "        text-align: right;\n",
       "    }\n",
       "</style>\n",
       "<table border=\"1\" class=\"dataframe\">\n",
       "  <thead>\n",
       "    <tr style=\"text-align: right;\">\n",
       "      <th></th>\n",
       "      <th>region</th>\n",
       "      <th>date</th>\n",
       "      <th>name</th>\n",
       "      <th>comment</th>\n",
       "    </tr>\n",
       "  </thead>\n",
       "  <tbody>\n",
       "    <tr>\n",
       "      <th>0</th>\n",
       "      <td>ACT</td>\n",
       "      <td>2014-01-01</td>\n",
       "      <td>New Years Day</td>\n",
       "      <td>None</td>\n",
       "    </tr>\n",
       "    <tr>\n",
       "      <th>1</th>\n",
       "      <td>ACT</td>\n",
       "      <td>2014-01-27</td>\n",
       "      <td>Australia Day Sub</td>\n",
       "      <td>None</td>\n",
       "    </tr>\n",
       "    <tr>\n",
       "      <th>2</th>\n",
       "      <td>ACT</td>\n",
       "      <td>2014-03-10</td>\n",
       "      <td>Canberra Day -RD</td>\n",
       "      <td>None</td>\n",
       "    </tr>\n",
       "    <tr>\n",
       "      <th>3</th>\n",
       "      <td>ACT</td>\n",
       "      <td>2014-04-18</td>\n",
       "      <td>Good Friday</td>\n",
       "      <td>None</td>\n",
       "    </tr>\n",
       "    <tr>\n",
       "      <th>4</th>\n",
       "      <td>ACT</td>\n",
       "      <td>2014-04-19</td>\n",
       "      <td>Easter Saturday</td>\n",
       "      <td>None</td>\n",
       "    </tr>\n",
       "  </tbody>\n",
       "</table>\n",
       "</div>"
      ],
      "text/plain": [
       "  region       date               name comment\n",
       "0    ACT 2014-01-01      New Years Day    None\n",
       "1    ACT 2014-01-27  Australia Day Sub    None\n",
       "2    ACT 2014-03-10   Canberra Day -RD    None\n",
       "3    ACT 2014-04-18        Good Friday    None\n",
       "4    ACT 2014-04-19    Easter Saturday    None"
      ]
     },
     "execution_count": 1033,
     "metadata": {},
     "output_type": "execute_result"
    }
   ],
   "source": [
    "# Read in raw data\n",
    "data_raw = pd.read_excel('Data/Input/messy_phol.xlsx')\n",
    "\n",
    "data_raw.head()"
   ]
  },
  {
   "cell_type": "code",
   "execution_count": 1034,
   "metadata": {},
   "outputs": [
    {
     "data": {
      "text/plain": [
       "region             object\n",
       "date       datetime64[ns]\n",
       "name               object\n",
       "comment            object\n",
       "dtype: object"
      ]
     },
     "execution_count": 1034,
     "metadata": {},
     "output_type": "execute_result"
    }
   ],
   "source": [
    "data_raw.dtypes"
   ]
  },
  {
   "cell_type": "markdown",
   "metadata": {},
   "source": [
    "We see that `date` field is already in the required datetime type."
   ]
  },
  {
   "cell_type": "markdown",
   "metadata": {},
   "source": [
    "There is no data for QLD."
   ]
  },
  {
   "cell_type": "code",
   "execution_count": 1035,
   "metadata": {},
   "outputs": [
    {
     "data": {
      "text/plain": [
       "array(['ACT', 'NSW', 'NT', 'SA', 'TAS', nan, 'VIC', 'WA'], dtype=object)"
      ]
     },
     "execution_count": 1035,
     "metadata": {},
     "output_type": "execute_result"
    }
   ],
   "source": [
    "data_raw['region'].unique()"
   ]
  },
  {
   "cell_type": "markdown",
   "metadata": {},
   "source": [
    "Data at index 470 and 662 has missing values."
   ]
  },
  {
   "cell_type": "code",
   "execution_count": 1036,
   "metadata": {},
   "outputs": [
    {
     "name": "stdout",
     "output_type": "stream",
     "text": [
      "    region       date                    name comment\n",
      "470    NaN 2019-04-25               ANZAC Day    None\n",
      "662     WA        NaT  Queens Birthday WA -RD    None\n"
     ]
    }
   ],
   "source": [
    "print(data_raw[data_raw.isnull().any(axis=1)])"
   ]
  },
  {
   "cell_type": "markdown",
   "metadata": {},
   "source": [
    "The names of public holidays are very messy."
   ]
  },
  {
   "cell_type": "code",
   "execution_count": 1037,
   "metadata": {},
   "outputs": [
    {
     "name": "stdout",
     "output_type": "stream",
     "text": [
      "Christmas Day                                     63\n",
      "Easter Monday                                     62\n",
      "Good Friday                                       58\n",
      "ANZAC Day                                         50\n",
      "New Years Day                                     47\n",
      "                                                  ..\n",
      "Boxing Day / Proclamation Day (additional day)     1\n",
      "Australia Day 26th                                 1\n",
      "good Friday - type c                               1\n",
      "Australia Day SUB                                  1\n",
      "Easter MON                                         1\n",
      "Name: name, Length: 72, dtype: int64\n"
     ]
    }
   ],
   "source": [
    "print(data_raw['name'].value_counts())"
   ]
  },
  {
   "cell_type": "markdown",
   "metadata": {},
   "source": [
    "Look for duplication in the data."
   ]
  },
  {
   "cell_type": "code",
   "execution_count": 1038,
   "metadata": {},
   "outputs": [
    {
     "data": {
      "text/html": [
       "<div>\n",
       "<style scoped>\n",
       "    .dataframe tbody tr th:only-of-type {\n",
       "        vertical-align: middle;\n",
       "    }\n",
       "\n",
       "    .dataframe tbody tr th {\n",
       "        vertical-align: top;\n",
       "    }\n",
       "\n",
       "    .dataframe thead th {\n",
       "        text-align: right;\n",
       "    }\n",
       "</style>\n",
       "<table border=\"1\" class=\"dataframe\">\n",
       "  <thead>\n",
       "    <tr style=\"text-align: right;\">\n",
       "      <th></th>\n",
       "      <th>region</th>\n",
       "      <th>date</th>\n",
       "      <th>name</th>\n",
       "      <th>comment</th>\n",
       "    </tr>\n",
       "  </thead>\n",
       "  <tbody>\n",
       "    <tr>\n",
       "      <th>573</th>\n",
       "      <td>VIC</td>\n",
       "      <td>2019-12-25</td>\n",
       "      <td>Christmas Day</td>\n",
       "      <td>None</td>\n",
       "    </tr>\n",
       "    <tr>\n",
       "      <th>774</th>\n",
       "      <td>VIC</td>\n",
       "      <td>2019-12-25</td>\n",
       "      <td>Christmas Day</td>\n",
       "      <td>None</td>\n",
       "    </tr>\n",
       "  </tbody>\n",
       "</table>\n",
       "</div>"
      ],
      "text/plain": [
       "    region       date           name comment\n",
       "573    VIC 2019-12-25  Christmas Day    None\n",
       "774    VIC 2019-12-25  Christmas Day    None"
      ]
     },
     "execution_count": 1038,
     "metadata": {},
     "output_type": "execute_result"
    }
   ],
   "source": [
    "data_raw.loc[data_raw.duplicated(keep=False), :]"
   ]
  },
  {
   "cell_type": "markdown",
   "metadata": {},
   "source": [
    "## 2. Data Cleansing"
   ]
  },
  {
   "cell_type": "markdown",
   "metadata": {},
   "source": [
    "### 2.0 Duplicate Data"
   ]
  },
  {
   "cell_type": "markdown",
   "metadata": {},
   "source": [
    "We simply remove the duplicated data row."
   ]
  },
  {
   "cell_type": "code",
   "execution_count": 1039,
   "metadata": {},
   "outputs": [],
   "source": [
    "data_raw.drop_duplicates(inplace=True)"
   ]
  },
  {
   "cell_type": "markdown",
   "metadata": {},
   "source": [
    "### 2.1 Missing Data"
   ]
  },
  {
   "cell_type": "markdown",
   "metadata": {},
   "source": [
    "There is data missing at index 470 and 662, and the data is roughly ordered by state and date. Therefore:\n",
    "1. We inspect the data points around index 470 and 662\n",
    "2. We can also inspect data with similar dates / names\n",
    "3. We then fill in based on the context"
   ]
  },
  {
   "cell_type": "markdown",
   "metadata": {},
   "source": [
    "#### 2.1.1 Missing Region"
   ]
  },
  {
   "cell_type": "markdown",
   "metadata": {},
   "source": [
    "Here we print out both the rows around the missing data, and other rows containing the same date."
   ]
  },
  {
   "cell_type": "code",
   "execution_count": 1040,
   "metadata": {},
   "outputs": [
    {
     "name": "stdout",
     "output_type": "stream",
     "text": [
      "    region       date                           name comment\n",
      "465    TAS 2019-01-01                  New Years Day    None\n",
      "466    TAS 2019-01-28              Australia Day Sub    None\n",
      "467    TAS 2019-03-11       Labour Day VIC - TAS -RD    None\n",
      "468    TAS 2019-04-19                    Good Friday    None\n",
      "469    TAS 2019-04-22                  Easter Monday    None\n",
      "470    NaN 2019-04-25                      ANZAC Day    None\n",
      "471    TAS 2019-06-10     Queens Birthday exc WA -RD    None\n",
      "472    TAS 2019-12-25                  Christmas Day    None\n",
      "473    TAS 2019-12-26  Boxing Day - Proclamation Day    None\n",
      "474    TAS 2020-01-01                  New Years Day    None\n"
     ]
    }
   ],
   "source": [
    "print(data_raw.iloc[465:475, :])"
   ]
  },
  {
   "cell_type": "code",
   "execution_count": 1041,
   "metadata": {},
   "outputs": [
    {
     "name": "stdout",
     "output_type": "stream",
     "text": [
      "    region       date       name comment\n",
      "74     ACT 2019-04-25  ANZAC Day    None\n",
      "175    NSW 2019-04-25  ANZAC Day    None\n",
      "273     NT 2019-04-25  ANZAC Day    None\n",
      "382     SA 2019-04-25  ANZAC Day    None\n",
      "470    NaN 2019-04-25  ANZAC Day    None\n",
      "569    VIC 2019-04-25  ANZAC Day    None\n",
      "649     WA 2019-04-25  ANZAC Day    None\n"
     ]
    }
   ],
   "source": [
    "print(data_raw.loc[data_raw['date'] == '2019-04-25', :])"
   ]
  },
  {
   "cell_type": "markdown",
   "metadata": {},
   "source": [
    "We see that the missing data is most likely for TAS, so we replace it with 'TAS'."
   ]
  },
  {
   "cell_type": "code",
   "execution_count": 1042,
   "metadata": {},
   "outputs": [],
   "source": [
    "data_raw.at[470, 'region'] = 'TAS'"
   ]
  },
  {
   "cell_type": "markdown",
   "metadata": {},
   "source": [
    "Checking that the missing value has been replaced."
   ]
  },
  {
   "cell_type": "code",
   "execution_count": 1043,
   "metadata": {},
   "outputs": [
    {
     "name": "stdout",
     "output_type": "stream",
     "text": [
      "region                     TAS\n",
      "date       2020-01-27 00:00:00\n",
      "name         Australia Day Sub\n",
      "comment                   None\n",
      "Name: 475, dtype: object\n"
     ]
    }
   ],
   "source": [
    "print(data_raw.loc[475])"
   ]
  },
  {
   "cell_type": "markdown",
   "metadata": {},
   "source": [
    "#### 2.1.2 Missing Date"
   ]
  },
  {
   "cell_type": "markdown",
   "metadata": {},
   "source": [
    "Here we print out both the rows around the missing data, and other rows containing the same holiday."
   ]
  },
  {
   "cell_type": "code",
   "execution_count": 1044,
   "metadata": {},
   "outputs": [
    {
     "name": "stdout",
     "output_type": "stream",
     "text": [
      "    region       date                           name comment\n",
      "660     WA 2020-04-27                  ANZAC Day Add    None\n",
      "661     WA 2020-06-01          Western Australia Day    None\n",
      "662     WA        NaT         Queens Birthday WA -RD    None\n",
      "663     WA 2020-12-25                  Christmas Day    None\n",
      "664     WA 2020-12-26  Boxing Day - Proclamation Day    None\n",
      "    region       date                    name comment\n",
      "597     WA 2014-09-29  Queens Birthday WA -RD    None\n",
      "608     WA 2015-09-28  Queens Birthday WA -RD    None\n",
      "619     WA 2016-09-26  Queens Birthday WA -RD    None\n",
      "631     WA 2017-09-25  Queens Birthday WA -RD    None\n",
      "641     WA 2018-09-24  Queens Birthday WA -RD    None\n",
      "651     WA 2019-09-30  Queens Birthday WA -RD    None\n",
      "662     WA        NaT  Queens Birthday WA -RD    None\n"
     ]
    }
   ],
   "source": [
    "print(data_raw.iloc[660:665, :])\n",
    "\n",
    "print(data_raw[(data_raw['region']=='WA') & data_raw['name'].str.contains('Queens')])"
   ]
  },
  {
   "cell_type": "markdown",
   "metadata": {},
   "source": [
    "We observe that the missing date is most likely 2020's Queen's Birthday for WA. A quick Google search shows the date as 28/09/2020."
   ]
  },
  {
   "cell_type": "code",
   "execution_count": 1045,
   "metadata": {},
   "outputs": [],
   "source": [
    "data_raw.at[662, 'date'] = '2020-09-28'"
   ]
  },
  {
   "cell_type": "markdown",
   "metadata": {},
   "source": [
    "Checking that the missing value has been replaced."
   ]
  },
  {
   "cell_type": "code",
   "execution_count": 1046,
   "metadata": {},
   "outputs": [
    {
     "name": "stdout",
     "output_type": "stream",
     "text": [
      "region                         WA\n",
      "date          2020-09-28 00:00:00\n",
      "name       Queens Birthday WA -RD\n",
      "comment                      None\n",
      "Name: 662, dtype: object\n"
     ]
    }
   ],
   "source": [
    "print(data_raw.loc[662])"
   ]
  },
  {
   "cell_type": "markdown",
   "metadata": {},
   "source": [
    "### 2.2 Public Holiday Names Cleanup"
   ]
  },
  {
   "cell_type": "markdown",
   "metadata": {},
   "source": [
    "Inspecting the full list of unique public holiday names, we can see that there is a lot of suffixes that needs to be removed."
   ]
  },
  {
   "cell_type": "code",
   "execution_count": 1047,
   "metadata": {},
   "outputs": [
    {
     "name": "stdout",
     "output_type": "stream",
     "text": [
      "['AFL Grand Final - Friday -RD', 'ANZ Day - additional day declared', 'ANZAC Day', 'ANZAC Day Add', 'Adelaide Cup -RD', 'Adelaide Cup Day', 'Anzac Day', 'Anzac Day (additional day)', 'Australia Day', 'Australia Day 26th', 'Australia Day ADD SA', 'Australia Day SUB', 'Australia Day Sub', 'Bank Holiday', 'Boxing Day', 'Boxing Day (additional day)', 'Boxing Day - Add', 'Boxing Day - Proclamation Day', 'Boxing Day - Proclamation Day Sub', 'Boxing Day / Proclamation Day', 'Boxing Day / Proclamation Day (additional day)', 'Boxing Day Add', 'Boxing Day Sub', 'Canberra Day', 'Canberra Day -RD', 'Christmas (additional day)', 'Christmas Day', 'Christmas Day Add', 'Christmas Eve', 'Christmas Eve -RD', 'Christmas Eve 7pm - midnight', 'Easter MON', 'Easter Monday', 'Easter Saturday', 'Easter Saturday - the Saturday following Good Friday', 'Easter Sunday', 'Easter Tuesday', 'Eight Hours Day', 'Family and Community Day', 'Friday before AFL Grand Final', 'Good Friday', 'Good Friday - type a', 'Good Friday - type b', 'Labour Day', 'Labour Day NSW-ACT-SA -RD', 'Labour Day VIC - TAS -RD', 'Labour Day WA -RD', 'May Day', 'May Day -RD', 'Melbourne Cup', 'Melbourne Cup Day -RD', 'NT Picnic Day -RD', \"New Year's Day\", \"New Year's Day (additional day)\", \"New Year's Eve\", \"New Year's Eve 7pm - midnight\", 'New Years Day', 'New Years Day Add', 'New Years Day Sub', 'New Years Day Sub Add', 'New Years Eve -RD', 'Picnic Day', \"Queen's Birthday\", \"Queen's Birthday / Volunteer's Day\", 'Queens Birthday QLD -RD', 'Queens Birthday WA -RD', 'Queens Birthday exc WA -RD', 'Reconciliation Day', 'Reconciliation Day -RD', 'Saturday before Easter Sunday', 'Western Australia Day', 'good Friday - type c']\n"
     ]
    }
   ],
   "source": [
    "phol_list = data_raw['name'].tolist()\n",
    "\n",
    "print(sorted(set(phol_list)))"
   ]
  },
  {
   "cell_type": "markdown",
   "metadata": {},
   "source": [
    "We attempt to clean up public holiday names by removing all text after the substring 'day'."
   ]
  },
  {
   "cell_type": "code",
   "execution_count": 1048,
   "metadata": {},
   "outputs": [
    {
     "name": "stdout",
     "output_type": "stream",
     "text": [
      "['AFL Grand Final - Friday', 'ANZ Day', 'ANZAC Day', 'Adelaide Cup', 'Adelaide Cup Day', 'Anzac Day', 'Australia Day', 'Bank Holiday', 'Boxing Day', 'Canberra Day', 'Christmas', 'Christmas Day', 'Christmas Eve', 'Christmas Eve 7pm - midnight', 'Easter MON', 'Easter Monday', 'Easter Saturday', 'Easter Sunday', 'Easter Tuesday', 'Eight Hours Day', 'Family and Community Day', 'Friday', 'Good Friday', 'Labour Day', 'May Day', 'Melbourne Cup', 'Melbourne Cup Day', 'NT Picnic Day', \"New Year's Day\", \"New Year's Eve\", \"New Year's Eve 7pm - midnight\", 'New Years Day', 'New Years Eve', 'Picnic Day', \"Queen's Birthday\", 'Queens Birthday', 'Reconciliation Day', 'Saturday', 'Western Australia Day', 'good Friday']\n"
     ]
    }
   ],
   "source": [
    "phol_list_clean = []\n",
    "\n",
    "for name in phol_list:\n",
    "    name = name.replace('(additional day)', '')\n",
    "    name = name.rstrip(' -RD')\n",
    "    try:\n",
    "        phol_list_clean.append(name[:name.lower().index('day') + 3])\n",
    "    except ValueError:\n",
    "        phol_list_clean.append(name)\n",
    "\n",
    "print(sorted(set(phol_list_clean)))"
   ]
  },
  {
   "cell_type": "markdown",
   "metadata": {},
   "source": [
    "There is still multiple messy or inconsistent holiday names, so we pick them out to investigate separately."
   ]
  },
  {
   "cell_type": "code",
   "execution_count": 1049,
   "metadata": {},
   "outputs": [
    {
     "name": "stdout",
     "output_type": "stream",
     "text": [
      "ANZ Day --------------------------------------------------\n",
      "   region       date                               name comment\n",
      "88    ACT 2020-04-27  ANZ Day - additional day declared    None \n",
      "\n",
      "Christmas Eve 7pm - midnight --------------------------------------------------\n",
      "    region       date                          name comment\n",
      "717     NT 2022-12-24  Christmas Eve 7pm - midnight    None\n",
      "731     SA 2022-12-24  Christmas Eve 7pm - midnight    None \n",
      "\n",
      "Easter MON --------------------------------------------------\n",
      "    region       date        name comment\n",
      "773    NSW 2020-04-13  Easter MON    None \n",
      "\n",
      "Easter Tuesday --------------------------------------------------\n",
      "    region       date            name comment\n",
      "488    TAS 2021-04-06  Easter Tuesday    None\n",
      "741    TAS 2022-04-19  Easter Tuesday    None \n",
      "\n",
      "Eight Hours Day --------------------------------------------------\n",
      "    region       date             name comment\n",
      "485    TAS 2021-03-08  Eight Hours Day    None\n",
      "738    TAS 2022-03-14  Eight Hours Day    None \n",
      "\n",
      "Family and Community Day --------------------------------------------------\n",
      "   region       date                      name comment\n",
      "8     ACT 2014-09-29  Family and Community Day    None\n",
      "21    ACT 2015-09-28  Family and Community Day    None\n",
      "35    ACT 2016-09-26  Family and Community Day    None\n",
      "50    ACT 2017-09-25  Family and Community Day    None \n",
      "\n",
      "Friday --------------------------------------------------\n",
      "    region       date                           name comment\n",
      "584    VIC 2021-09-24  Friday before AFL Grand Final    None \n",
      "\n",
      "Labour Day --------------------------------------------------\n",
      "    region       date                       name comment\n",
      "9      ACT 2014-10-06  Labour Day NSW-ACT-SA -RD    None\n",
      "22     ACT 2015-10-05  Labour Day NSW-ACT-SA -RD    None\n",
      "36     ACT 2016-10-03  Labour Day NSW-ACT-SA -RD    None\n",
      "51     ACT 2017-10-02  Labour Day NSW-ACT-SA -RD    None\n",
      "64     ACT 2018-10-01  Labour Day NSW-ACT-SA -RD    None\n",
      "77     ACT 2019-10-07  Labour Day NSW-ACT-SA -RD    None\n",
      "91     ACT 2020-10-05  Labour Day NSW-ACT-SA -RD    None\n",
      "106    ACT 2021-10-04                 Labour Day    None\n",
      "119    NSW 2014-10-06  Labour Day NSW-ACT-SA -RD    None\n",
      "130    NSW 2015-10-05  Labour Day NSW-ACT-SA -RD    None\n",
      "142    NSW 2016-10-03  Labour Day NSW-ACT-SA -RD    None\n",
      "155    NSW 2017-10-02  Labour Day NSW-ACT-SA -RD    None\n",
      "166    NSW 2018-10-01  Labour Day NSW-ACT-SA -RD    None\n",
      "177    NSW 2019-10-07  Labour Day NSW-ACT-SA -RD    None\n",
      "188    NSW 2020-10-05  Labour Day NSW-ACT-SA -RD    None\n",
      "200    NSW 2021-10-04                 Labour Day    None\n",
      "317     SA 2014-10-06  Labour Day NSW-ACT-SA -RD    None\n",
      "330     SA 2015-10-05  Labour Day NSW-ACT-SA -RD    None\n",
      "343     SA 2016-10-03  Labour Day NSW-ACT-SA -RD    None\n",
      "358     SA 2017-10-02  Labour Day NSW-ACT-SA -RD    None\n",
      "371     SA 2018-10-01  Labour Day NSW-ACT-SA -RD    None\n",
      "384     SA 2019-10-07  Labour Day NSW-ACT-SA -RD    None\n",
      "398     SA 2020-10-05  Labour Day NSW-ACT-SA -RD    None\n",
      "412     SA 2021-10-04                 Labour Day    None\n",
      "421    TAS 2014-03-10   Labour Day VIC - TAS -RD    None\n",
      "430    TAS 2015-03-09   Labour Day VIC - TAS -RD    None\n",
      "439    TAS 2016-03-14   Labour Day VIC - TAS -RD    None\n",
      "449    TAS 2017-03-13   Labour Day VIC - TAS -RD    None\n",
      "458    TAS 2018-03-12   Labour Day VIC - TAS -RD    None\n",
      "467    TAS 2019-03-11   Labour Day VIC - TAS -RD    None\n",
      "476    TAS 2020-03-09   Labour Day VIC - TAS -RD    None\n",
      "497    VIC 2014-03-10   Labour Day VIC - TAS -RD    None\n",
      "509    VIC 2015-03-09   Labour Day VIC - TAS -RD    None\n",
      "523    VIC 2016-03-14   Labour Day VIC - TAS -RD    None\n",
      "538    VIC 2017-03-13   Labour Day VIC - TAS -RD    None\n",
      "551    VIC 2018-03-12   Labour Day VIC - TAS -RD    None\n",
      "564    VIC 2019-03-11   Labour Day VIC - TAS -RD    None\n",
      "577    VIC 2021-03-08                 Labour Day    None\n",
      "592     WA 2014-03-03          Labour Day WA -RD    None\n",
      "602     WA 2015-03-02          Labour Day WA -RD    None\n",
      "614     WA 2016-03-07          Labour Day WA -RD    None\n",
      "626     WA 2017-03-06          Labour Day WA -RD    None\n",
      "636     WA 2018-03-05          Labour Day WA -RD    None\n",
      "646     WA 2019-03-04          Labour Day WA -RD    None\n",
      "656     WA 2020-03-02          Labour Day WA -RD    None\n",
      "668     WA 2021-03-01                 Labour Day    None\n",
      "690    ACT 2022-10-03                 Labour Day    None\n",
      "704    NSW 2022-10-03                 Labour Day    None\n",
      "730     SA 2022-10-03                 Labour Day    None\n",
      "750    VIC 2022-03-14                 Labour Day    None\n",
      "764     WA 2022-03-07                 Labour Day    None \n",
      "\n",
      "May Day --------------------------------------------------\n",
      "    region       date         name comment\n",
      "211     NT 2014-05-05  May Day -RD    None\n",
      "222     NT 2015-05-04  May Day -RD    None\n",
      "233     NT 2016-05-02  May Day -RD    None\n",
      "248     NT 2017-05-01  May Day -RD    None\n",
      "261     NT 2018-05-07  May Day -RD    None\n",
      "274     NT 2019-05-06  May Day -RD    None\n",
      "287     NT 2020-05-04  May Day -RD    None\n",
      "300     NT 2021-05-03      May Day    None\n",
      "714     NT 2022-05-02      May Day    None \n",
      "\n",
      "Saturday --------------------------------------------------\n",
      "    region       date                           name comment\n",
      "579    VIC 2021-04-03  Saturday before Easter Sunday    None\n",
      "752    VIC 2022-04-16  Saturday before Easter Sunday    None \n",
      "\n"
     ]
    }
   ],
   "source": [
    "investigate_list = ['ANZ Day',\n",
    "                    'Christmas Eve 7pm - midnight',\n",
    "                    'Easter MON',\n",
    "                    'Easter Tuesday',\n",
    "                    'Eight Hours Day',\n",
    "                    'Family and Community Day',\n",
    "                    'Friday',\n",
    "                    'Labour Day',\n",
    "                    'May Day',\n",
    "                    'Saturday']\n",
    "\n",
    "for phol in investigate_list:\n",
    "    print(phol, '-'*50)\n",
    "    print(data_raw[data_raw['name'].str.startswith(phol)], '\\n')\n"
   ]
  },
  {
   "cell_type": "markdown",
   "metadata": {},
   "source": [
    "We then rename these individual cases to be in line with the general case."
   ]
  },
  {
   "cell_type": "code",
   "execution_count": 1050,
   "metadata": {},
   "outputs": [],
   "source": [
    "phol_replacement = {'ANZ Day': 'ANZAC Day',\n",
    "                    'Adelaide Cup': 'Adelaide Cup Day',\n",
    "                    'Anzac Day': 'ANZAC Day',\n",
    "                    'Christmas Day': 'Christmas',\n",
    "                    'Christmas Eve 7pm - midnight': 'Christmas Eve',\n",
    "                    'Easter MON': 'Easter Monday',\n",
    "                    'Friday': 'AFL Grand Final - Friday',\n",
    "                    'Melbourne Cup Day': 'Melbourne Cup',\n",
    "                    'NT Picnic Day': 'Picnic Day',\n",
    "                    \"New Year's Day\": 'New Years Day',\n",
    "                    \"New Year's Eve\": 'New Years Eve',\n",
    "                    \"New Year's Eve 7pm - midnight\" : 'New Years Eve',\n",
    "                    \"Queen's Birthday\": 'Queens Birthday',\n",
    "                    'Saturday': 'Easter Saturday',\n",
    "                    'good Friday': 'Good Friday'\n",
    "                   }"
   ]
  },
  {
   "cell_type": "markdown",
   "metadata": {},
   "source": [
    "Here we clean up and create the final list of public holiday names."
   ]
  },
  {
   "cell_type": "code",
   "execution_count": 1051,
   "metadata": {},
   "outputs": [
    {
     "data": {
      "text/plain": [
       "['AFL Grand Final - Friday',\n",
       " 'ANZAC Day',\n",
       " 'Adelaide Cup Day',\n",
       " 'Australia Day',\n",
       " 'Bank Holiday',\n",
       " 'Boxing Day',\n",
       " 'Canberra Day',\n",
       " 'Christmas',\n",
       " 'Christmas Eve',\n",
       " 'Easter Monday',\n",
       " 'Easter Saturday',\n",
       " 'Easter Sunday',\n",
       " 'Easter Tuesday',\n",
       " 'Eight Hours Day',\n",
       " 'Family and Community Day',\n",
       " 'Good Friday',\n",
       " 'Labour Day',\n",
       " 'May Day',\n",
       " 'Melbourne Cup',\n",
       " 'New Years Day',\n",
       " 'New Years Eve',\n",
       " 'Picnic Day',\n",
       " 'Queens Birthday',\n",
       " 'Reconciliation Day',\n",
       " 'Western Australia Day']"
      ]
     },
     "execution_count": 1051,
     "metadata": {},
     "output_type": "execute_result"
    }
   ],
   "source": [
    "phol_list_final = []\n",
    "\n",
    "for phol in phol_list_clean:\n",
    "    if phol in phol_replacement:\n",
    "        phol_list_final.append(phol_replacement[phol])\n",
    "    else:\n",
    "        phol_list_final.append(phol)\n",
    "\n",
    "sorted(set(phol_list_final))"
   ]
  },
  {
   "cell_type": "markdown",
   "metadata": {},
   "source": [
    "Now that the holiday names are consistent, we attach it to the original data."
   ]
  },
  {
   "cell_type": "code",
   "execution_count": 1052,
   "metadata": {},
   "outputs": [],
   "source": [
    "data_raw['public_holiday_cleaned'] = phol_list_final"
   ]
  },
  {
   "cell_type": "markdown",
   "metadata": {},
   "source": [
    "We select the relevant cleansed data columns and rename the columns accordingly."
   ]
  },
  {
   "cell_type": "code",
   "execution_count": 1053,
   "metadata": {},
   "outputs": [
    {
     "data": {
      "text/html": [
       "<div>\n",
       "<style scoped>\n",
       "    .dataframe tbody tr th:only-of-type {\n",
       "        vertical-align: middle;\n",
       "    }\n",
       "\n",
       "    .dataframe tbody tr th {\n",
       "        vertical-align: top;\n",
       "    }\n",
       "\n",
       "    .dataframe thead th {\n",
       "        text-align: right;\n",
       "    }\n",
       "</style>\n",
       "<table border=\"1\" class=\"dataframe\">\n",
       "  <thead>\n",
       "    <tr style=\"text-align: right;\">\n",
       "      <th></th>\n",
       "      <th>phol_location</th>\n",
       "      <th>public_holiday_date</th>\n",
       "      <th>public_holiday</th>\n",
       "    </tr>\n",
       "  </thead>\n",
       "  <tbody>\n",
       "    <tr>\n",
       "      <th>0</th>\n",
       "      <td>ACT</td>\n",
       "      <td>2014-01-01</td>\n",
       "      <td>New Years Day</td>\n",
       "    </tr>\n",
       "    <tr>\n",
       "      <th>1</th>\n",
       "      <td>ACT</td>\n",
       "      <td>2014-01-27</td>\n",
       "      <td>Australia Day</td>\n",
       "    </tr>\n",
       "    <tr>\n",
       "      <th>2</th>\n",
       "      <td>ACT</td>\n",
       "      <td>2014-03-10</td>\n",
       "      <td>Canberra Day</td>\n",
       "    </tr>\n",
       "    <tr>\n",
       "      <th>3</th>\n",
       "      <td>ACT</td>\n",
       "      <td>2014-04-18</td>\n",
       "      <td>Good Friday</td>\n",
       "    </tr>\n",
       "    <tr>\n",
       "      <th>4</th>\n",
       "      <td>ACT</td>\n",
       "      <td>2014-04-19</td>\n",
       "      <td>Easter Saturday</td>\n",
       "    </tr>\n",
       "  </tbody>\n",
       "</table>\n",
       "</div>"
      ],
      "text/plain": [
       "  phol_location public_holiday_date   public_holiday\n",
       "0           ACT          2014-01-01    New Years Day\n",
       "1           ACT          2014-01-27    Australia Day\n",
       "2           ACT          2014-03-10     Canberra Day\n",
       "3           ACT          2014-04-18      Good Friday\n",
       "4           ACT          2014-04-19  Easter Saturday"
      ]
     },
     "execution_count": 1053,
     "metadata": {},
     "output_type": "execute_result"
    }
   ],
   "source": [
    "data_cleansed = data_raw.loc[:, ['region', 'date', 'public_holiday_cleaned']].copy(deep=True)\n",
    "\n",
    "data_cleansed.columns = ['phol_location', 'public_holiday_date', 'public_holiday']\n",
    "\n",
    "data_cleansed.head()"
   ]
  },
  {
   "cell_type": "markdown",
   "metadata": {},
   "source": [
    "Here we take a subset of the data for the in-scope period.  "
   ]
  },
  {
   "cell_type": "code",
   "execution_count": 1054,
   "metadata": {},
   "outputs": [
    {
     "data": {
      "text/html": [
       "<div>\n",
       "<style scoped>\n",
       "    .dataframe tbody tr th:only-of-type {\n",
       "        vertical-align: middle;\n",
       "    }\n",
       "\n",
       "    .dataframe tbody tr th {\n",
       "        vertical-align: top;\n",
       "    }\n",
       "\n",
       "    .dataframe thead th {\n",
       "        text-align: right;\n",
       "    }\n",
       "</style>\n",
       "<table border=\"1\" class=\"dataframe\">\n",
       "  <thead>\n",
       "    <tr style=\"text-align: right;\">\n",
       "      <th></th>\n",
       "      <th>phol_location</th>\n",
       "      <th>public_holiday_date</th>\n",
       "      <th>public_holiday</th>\n",
       "    </tr>\n",
       "  </thead>\n",
       "  <tbody>\n",
       "    <tr>\n",
       "      <th>67</th>\n",
       "      <td>ACT</td>\n",
       "      <td>2019-01-01</td>\n",
       "      <td>New Years Day</td>\n",
       "    </tr>\n",
       "    <tr>\n",
       "      <th>68</th>\n",
       "      <td>ACT</td>\n",
       "      <td>2019-01-28</td>\n",
       "      <td>Australia Day</td>\n",
       "    </tr>\n",
       "    <tr>\n",
       "      <th>69</th>\n",
       "      <td>ACT</td>\n",
       "      <td>2019-03-11</td>\n",
       "      <td>Canberra Day</td>\n",
       "    </tr>\n",
       "    <tr>\n",
       "      <th>70</th>\n",
       "      <td>ACT</td>\n",
       "      <td>2019-04-19</td>\n",
       "      <td>Good Friday</td>\n",
       "    </tr>\n",
       "    <tr>\n",
       "      <th>71</th>\n",
       "      <td>ACT</td>\n",
       "      <td>2019-04-20</td>\n",
       "      <td>Easter Saturday</td>\n",
       "    </tr>\n",
       "  </tbody>\n",
       "</table>\n",
       "</div>"
      ],
      "text/plain": [
       "   phol_location public_holiday_date   public_holiday\n",
       "67           ACT          2019-01-01    New Years Day\n",
       "68           ACT          2019-01-28    Australia Day\n",
       "69           ACT          2019-03-11     Canberra Day\n",
       "70           ACT          2019-04-19      Good Friday\n",
       "71           ACT          2019-04-20  Easter Saturday"
      ]
     },
     "execution_count": 1054,
     "metadata": {},
     "output_type": "execute_result"
    }
   ],
   "source": [
    "data_inscope = data_cleansed.loc[(data_cleansed['public_holiday_date'] >= '2019-01-01') & \n",
    "                                 (data_cleansed['public_holiday_date'] <= '2021-12-31'),\n",
    "                                 :\n",
    "                                 ].copy(deep=True)\n",
    "\n",
    "data_inscope.head()"
   ]
  },
  {
   "cell_type": "markdown",
   "metadata": {},
   "source": [
    "### 2.3 Public Holiday Start Time"
   ]
  },
  {
   "cell_type": "markdown",
   "metadata": {},
   "source": [
    "We create the start and end time columns by copying over the `public_holiday_date` column first.\n",
    "\n",
    "We then create a copy of the smaller subset of the in-scope data, for those holidays that have a 7PM start time instead of 12AM start time."
   ]
  },
  {
   "cell_type": "code",
   "execution_count": 1055,
   "metadata": {},
   "outputs": [],
   "source": [
    "data_inscope['public_holiday_start'] = data_inscope['public_holiday_date']\n",
    "data_inscope['public_holiday_end'] = data_inscope['public_holiday_date']\n",
    "\n",
    "# Removing the time components so the format when output to CSV is correct\n",
    "data_inscope['public_holiday_date'] = data_inscope['public_holiday_date'].dt.date"
   ]
  },
  {
   "cell_type": "code",
   "execution_count": 1056,
   "metadata": {},
   "outputs": [],
   "source": [
    "partial_holidays = data_inscope.loc[(data_inscope['phol_location'].isin(['NT', 'SA'])) & \n",
    "                                    (data_inscope['public_holiday'].isin(['Christmas Eve', 'New Years Eve'])),\n",
    "                                    :\n",
    "                                    ].copy(deep=True)"
   ]
  },
  {
   "cell_type": "markdown",
   "metadata": {},
   "source": [
    "We replace the time with 19:00 or 7PM."
   ]
  },
  {
   "cell_type": "code",
   "execution_count": 1057,
   "metadata": {},
   "outputs": [
    {
     "name": "stdout",
     "output_type": "stream",
     "text": [
      "    phol_location public_holiday_date public_holiday public_holiday_start  \\\n",
      "277            NT          2019-12-24  Christmas Eve  2019-12-24 19:00:00   \n",
      "280            NT          2019-12-31  New Years Eve  2019-12-31 19:00:00   \n",
      "290            NT          2020-12-24  Christmas Eve  2020-12-24 19:00:00   \n",
      "293            NT          2020-12-31  New Years Eve  2020-12-31 19:00:00   \n",
      "303            NT          2021-12-24  Christmas Eve  2021-12-24 19:00:00   \n",
      "308            NT          2021-12-31  New Years Eve  2021-12-31 19:00:00   \n",
      "385            SA          2019-12-24  Christmas Eve  2019-12-24 19:00:00   \n",
      "388            SA          2019-12-31  New Years Eve  2019-12-31 19:00:00   \n",
      "399            SA          2020-12-24  Christmas Eve  2020-12-24 19:00:00   \n",
      "402            SA          2020-12-31  New Years Eve  2020-12-31 19:00:00   \n",
      "413            SA          2021-12-24  Christmas Eve  2021-12-24 19:00:00   \n",
      "418            SA          2021-12-31  New Years Eve  2021-12-31 19:00:00   \n",
      "\n",
      "    public_holiday_end  \n",
      "277         2019-12-24  \n",
      "280         2019-12-31  \n",
      "290         2020-12-24  \n",
      "293         2020-12-31  \n",
      "303         2021-12-24  \n",
      "308         2021-12-31  \n",
      "385         2019-12-24  \n",
      "388         2019-12-31  \n",
      "399         2020-12-24  \n",
      "402         2020-12-31  \n",
      "413         2021-12-24  \n",
      "418         2021-12-31  \n"
     ]
    }
   ],
   "source": [
    "partial_holidays.loc[:, 'public_holiday_start'] = partial_holidays.loc[:, 'public_holiday_start'].apply(\n",
    "                                                      lambda x: x.replace(hour=19, minute=0)\n",
    "                                                      )\n",
    "\n",
    "print(partial_holidays)"
   ]
  },
  {
   "cell_type": "markdown",
   "metadata": {},
   "source": [
    "We update the original `data_inscope` table, and check that the values have been successfully updated"
   ]
  },
  {
   "cell_type": "code",
   "execution_count": 1058,
   "metadata": {},
   "outputs": [
    {
     "data": {
      "text/html": [
       "<div>\n",
       "<style scoped>\n",
       "    .dataframe tbody tr th:only-of-type {\n",
       "        vertical-align: middle;\n",
       "    }\n",
       "\n",
       "    .dataframe tbody tr th {\n",
       "        vertical-align: top;\n",
       "    }\n",
       "\n",
       "    .dataframe thead th {\n",
       "        text-align: right;\n",
       "    }\n",
       "</style>\n",
       "<table border=\"1\" class=\"dataframe\">\n",
       "  <thead>\n",
       "    <tr style=\"text-align: right;\">\n",
       "      <th></th>\n",
       "      <th>phol_location</th>\n",
       "      <th>public_holiday_date</th>\n",
       "      <th>public_holiday</th>\n",
       "      <th>public_holiday_start</th>\n",
       "      <th>public_holiday_end</th>\n",
       "    </tr>\n",
       "  </thead>\n",
       "  <tbody>\n",
       "    <tr>\n",
       "      <th>277</th>\n",
       "      <td>NT</td>\n",
       "      <td>2019-12-24</td>\n",
       "      <td>Christmas Eve</td>\n",
       "      <td>2019-12-24 19:00:00</td>\n",
       "      <td>2019-12-24</td>\n",
       "    </tr>\n",
       "    <tr>\n",
       "      <th>280</th>\n",
       "      <td>NT</td>\n",
       "      <td>2019-12-31</td>\n",
       "      <td>New Years Eve</td>\n",
       "      <td>2019-12-31 19:00:00</td>\n",
       "      <td>2019-12-31</td>\n",
       "    </tr>\n",
       "    <tr>\n",
       "      <th>290</th>\n",
       "      <td>NT</td>\n",
       "      <td>2020-12-24</td>\n",
       "      <td>Christmas Eve</td>\n",
       "      <td>2020-12-24 19:00:00</td>\n",
       "      <td>2020-12-24</td>\n",
       "    </tr>\n",
       "    <tr>\n",
       "      <th>293</th>\n",
       "      <td>NT</td>\n",
       "      <td>2020-12-31</td>\n",
       "      <td>New Years Eve</td>\n",
       "      <td>2020-12-31 19:00:00</td>\n",
       "      <td>2020-12-31</td>\n",
       "    </tr>\n",
       "    <tr>\n",
       "      <th>303</th>\n",
       "      <td>NT</td>\n",
       "      <td>2021-12-24</td>\n",
       "      <td>Christmas Eve</td>\n",
       "      <td>2021-12-24 19:00:00</td>\n",
       "      <td>2021-12-24</td>\n",
       "    </tr>\n",
       "    <tr>\n",
       "      <th>308</th>\n",
       "      <td>NT</td>\n",
       "      <td>2021-12-31</td>\n",
       "      <td>New Years Eve</td>\n",
       "      <td>2021-12-31 19:00:00</td>\n",
       "      <td>2021-12-31</td>\n",
       "    </tr>\n",
       "    <tr>\n",
       "      <th>385</th>\n",
       "      <td>SA</td>\n",
       "      <td>2019-12-24</td>\n",
       "      <td>Christmas Eve</td>\n",
       "      <td>2019-12-24 19:00:00</td>\n",
       "      <td>2019-12-24</td>\n",
       "    </tr>\n",
       "    <tr>\n",
       "      <th>388</th>\n",
       "      <td>SA</td>\n",
       "      <td>2019-12-31</td>\n",
       "      <td>New Years Eve</td>\n",
       "      <td>2019-12-31 19:00:00</td>\n",
       "      <td>2019-12-31</td>\n",
       "    </tr>\n",
       "    <tr>\n",
       "      <th>399</th>\n",
       "      <td>SA</td>\n",
       "      <td>2020-12-24</td>\n",
       "      <td>Christmas Eve</td>\n",
       "      <td>2020-12-24 19:00:00</td>\n",
       "      <td>2020-12-24</td>\n",
       "    </tr>\n",
       "    <tr>\n",
       "      <th>402</th>\n",
       "      <td>SA</td>\n",
       "      <td>2020-12-31</td>\n",
       "      <td>New Years Eve</td>\n",
       "      <td>2020-12-31 19:00:00</td>\n",
       "      <td>2020-12-31</td>\n",
       "    </tr>\n",
       "    <tr>\n",
       "      <th>413</th>\n",
       "      <td>SA</td>\n",
       "      <td>2021-12-24</td>\n",
       "      <td>Christmas Eve</td>\n",
       "      <td>2021-12-24 19:00:00</td>\n",
       "      <td>2021-12-24</td>\n",
       "    </tr>\n",
       "    <tr>\n",
       "      <th>418</th>\n",
       "      <td>SA</td>\n",
       "      <td>2021-12-31</td>\n",
       "      <td>New Years Eve</td>\n",
       "      <td>2021-12-31 19:00:00</td>\n",
       "      <td>2021-12-31</td>\n",
       "    </tr>\n",
       "  </tbody>\n",
       "</table>\n",
       "</div>"
      ],
      "text/plain": [
       "    phol_location public_holiday_date public_holiday public_holiday_start  \\\n",
       "277            NT          2019-12-24  Christmas Eve  2019-12-24 19:00:00   \n",
       "280            NT          2019-12-31  New Years Eve  2019-12-31 19:00:00   \n",
       "290            NT          2020-12-24  Christmas Eve  2020-12-24 19:00:00   \n",
       "293            NT          2020-12-31  New Years Eve  2020-12-31 19:00:00   \n",
       "303            NT          2021-12-24  Christmas Eve  2021-12-24 19:00:00   \n",
       "308            NT          2021-12-31  New Years Eve  2021-12-31 19:00:00   \n",
       "385            SA          2019-12-24  Christmas Eve  2019-12-24 19:00:00   \n",
       "388            SA          2019-12-31  New Years Eve  2019-12-31 19:00:00   \n",
       "399            SA          2020-12-24  Christmas Eve  2020-12-24 19:00:00   \n",
       "402            SA          2020-12-31  New Years Eve  2020-12-31 19:00:00   \n",
       "413            SA          2021-12-24  Christmas Eve  2021-12-24 19:00:00   \n",
       "418            SA          2021-12-31  New Years Eve  2021-12-31 19:00:00   \n",
       "\n",
       "    public_holiday_end  \n",
       "277         2019-12-24  \n",
       "280         2019-12-31  \n",
       "290         2020-12-24  \n",
       "293         2020-12-31  \n",
       "303         2021-12-24  \n",
       "308         2021-12-31  \n",
       "385         2019-12-24  \n",
       "388         2019-12-31  \n",
       "399         2020-12-24  \n",
       "402         2020-12-31  \n",
       "413         2021-12-24  \n",
       "418         2021-12-31  "
      ]
     },
     "execution_count": 1058,
     "metadata": {},
     "output_type": "execute_result"
    }
   ],
   "source": [
    "data_inscope.update(partial_holidays)\n",
    "\n",
    "data_inscope.loc[(data_inscope['phol_location'].isin(['NT', 'SA'])) & \n",
    "                 (data_inscope['public_holiday'].isin(['Christmas Eve', 'New Years Eve'])),\n",
    "                 :\n",
    "                 ]"
   ]
  },
  {
   "cell_type": "markdown",
   "metadata": {},
   "source": [
    "### 2.4 Public Holiday End Time"
   ]
  },
  {
   "cell_type": "markdown",
   "metadata": {},
   "source": [
    "Here we simply change all public holiday end time to 23:59:59."
   ]
  },
  {
   "cell_type": "code",
   "execution_count": 1059,
   "metadata": {},
   "outputs": [],
   "source": [
    "data_inscope.loc[:, 'public_holiday_end'] = data_inscope.loc[:, 'public_holiday_end'].apply(\n",
    "                                                lambda x: x.replace(hour=23, minute=59, second=59)\n",
    "                                                )"
   ]
  },
  {
   "cell_type": "code",
   "execution_count": 1060,
   "metadata": {},
   "outputs": [
    {
     "name": "stdout",
     "output_type": "stream",
     "text": [
      "   phol_location public_holiday_date   public_holiday public_holiday_start  \\\n",
      "67           ACT          2019-01-01    New Years Day           2019-01-01   \n",
      "68           ACT          2019-01-28    Australia Day           2019-01-28   \n",
      "69           ACT          2019-03-11     Canberra Day           2019-03-11   \n",
      "70           ACT          2019-04-19      Good Friday           2019-04-19   \n",
      "71           ACT          2019-04-20  Easter Saturday           2019-04-20   \n",
      "\n",
      "    public_holiday_end  \n",
      "67 2019-01-01 23:59:59  \n",
      "68 2019-01-28 23:59:59  \n",
      "69 2019-03-11 23:59:59  \n",
      "70 2019-04-19 23:59:59  \n",
      "71 2019-04-20 23:59:59  \n"
     ]
    }
   ],
   "source": [
    "print(data_inscope.head())"
   ]
  },
  {
   "cell_type": "markdown",
   "metadata": {},
   "source": [
    "### 2.5 Final Check"
   ]
  },
  {
   "cell_type": "markdown",
   "metadata": {},
   "source": [
    "Final check for missing data"
   ]
  },
  {
   "cell_type": "code",
   "execution_count": 1061,
   "metadata": {},
   "outputs": [
    {
     "data": {
      "text/html": [
       "<div>\n",
       "<style scoped>\n",
       "    .dataframe tbody tr th:only-of-type {\n",
       "        vertical-align: middle;\n",
       "    }\n",
       "\n",
       "    .dataframe tbody tr th {\n",
       "        vertical-align: top;\n",
       "    }\n",
       "\n",
       "    .dataframe thead th {\n",
       "        text-align: right;\n",
       "    }\n",
       "</style>\n",
       "<table border=\"1\" class=\"dataframe\">\n",
       "  <thead>\n",
       "    <tr style=\"text-align: right;\">\n",
       "      <th></th>\n",
       "      <th>phol_location</th>\n",
       "      <th>public_holiday_date</th>\n",
       "      <th>public_holiday</th>\n",
       "      <th>public_holiday_start</th>\n",
       "      <th>public_holiday_end</th>\n",
       "    </tr>\n",
       "  </thead>\n",
       "  <tbody>\n",
       "  </tbody>\n",
       "</table>\n",
       "</div>"
      ],
      "text/plain": [
       "Empty DataFrame\n",
       "Columns: [phol_location, public_holiday_date, public_holiday, public_holiday_start, public_holiday_end]\n",
       "Index: []"
      ]
     },
     "execution_count": 1061,
     "metadata": {},
     "output_type": "execute_result"
    }
   ],
   "source": [
    "data_inscope[data_inscope.isnull().any(axis=1)]"
   ]
  },
  {
   "cell_type": "markdown",
   "metadata": {},
   "source": [
    "Final check for duplicates"
   ]
  },
  {
   "cell_type": "code",
   "execution_count": 1062,
   "metadata": {},
   "outputs": [
    {
     "data": {
      "text/html": [
       "<div>\n",
       "<style scoped>\n",
       "    .dataframe tbody tr th:only-of-type {\n",
       "        vertical-align: middle;\n",
       "    }\n",
       "\n",
       "    .dataframe tbody tr th {\n",
       "        vertical-align: top;\n",
       "    }\n",
       "\n",
       "    .dataframe thead th {\n",
       "        text-align: right;\n",
       "    }\n",
       "</style>\n",
       "<table border=\"1\" class=\"dataframe\">\n",
       "  <thead>\n",
       "    <tr style=\"text-align: right;\">\n",
       "      <th></th>\n",
       "      <th>phol_location</th>\n",
       "      <th>public_holiday_date</th>\n",
       "      <th>public_holiday</th>\n",
       "      <th>public_holiday_start</th>\n",
       "      <th>public_holiday_end</th>\n",
       "    </tr>\n",
       "  </thead>\n",
       "  <tbody>\n",
       "    <tr>\n",
       "      <th>185</th>\n",
       "      <td>NSW</td>\n",
       "      <td>2020-04-13</td>\n",
       "      <td>Easter Monday</td>\n",
       "      <td>2020-04-13</td>\n",
       "      <td>2020-04-13 23:59:59</td>\n",
       "    </tr>\n",
       "    <tr>\n",
       "      <th>773</th>\n",
       "      <td>NSW</td>\n",
       "      <td>2020-04-13</td>\n",
       "      <td>Easter Monday</td>\n",
       "      <td>2020-04-13</td>\n",
       "      <td>2020-04-13 23:59:59</td>\n",
       "    </tr>\n",
       "  </tbody>\n",
       "</table>\n",
       "</div>"
      ],
      "text/plain": [
       "    phol_location public_holiday_date public_holiday public_holiday_start  \\\n",
       "185           NSW          2020-04-13  Easter Monday           2020-04-13   \n",
       "773           NSW          2020-04-13  Easter Monday           2020-04-13   \n",
       "\n",
       "     public_holiday_end  \n",
       "185 2020-04-13 23:59:59  \n",
       "773 2020-04-13 23:59:59  "
      ]
     },
     "execution_count": 1062,
     "metadata": {},
     "output_type": "execute_result"
    }
   ],
   "source": [
    "data_inscope.loc[data_inscope.duplicated(keep=False), :]"
   ]
  },
  {
   "cell_type": "markdown",
   "metadata": {},
   "source": [
    "The duplication was from 'Easter MON' and 'Easter Monday' name changes, we therefore remove them."
   ]
  },
  {
   "cell_type": "code",
   "execution_count": 1063,
   "metadata": {},
   "outputs": [],
   "source": [
    "data_inscope.drop_duplicates(inplace=True)"
   ]
  },
  {
   "cell_type": "markdown",
   "metadata": {},
   "source": [
    "### 2.6 Saving to CSV"
   ]
  },
  {
   "cell_type": "code",
   "execution_count": 1064,
   "metadata": {},
   "outputs": [],
   "source": [
    "data_inscope.to_csv('Data/Output/cleaned_phol.csv', index=False)"
   ]
  }
 ],
 "metadata": {
  "interpreter": {
   "hash": "573b75eb071366041b83a01f055daac94ade1c01d4174ad6a6be94e33032cbc2"
  },
  "kernelspec": {
   "display_name": "Python 3.9.7 64-bit",
   "language": "python",
   "name": "python3"
  },
  "language_info": {
   "codemirror_mode": {
    "name": "ipython",
    "version": 3
   },
   "file_extension": ".py",
   "mimetype": "text/x-python",
   "name": "python",
   "nbconvert_exporter": "python",
   "pygments_lexer": "ipython3",
   "version": "3.9.7"
  },
  "orig_nbformat": 4
 },
 "nbformat": 4,
 "nbformat_minor": 2
}
